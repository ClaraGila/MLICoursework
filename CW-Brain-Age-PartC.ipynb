{
 "cells": [
  {
   "cell_type": "markdown",
   "metadata": {
    "colab_type": "text",
    "id": "d4V_ujol5t4C"
   },
   "source": [
    "# Coursework: Age regression from brain MRI"
   ]
  },
  {
   "cell_type": "markdown",
   "metadata": {
    "colab_type": "text",
    "id": "VcW656l05t4L"
   },
   "source": [
    "Predicting the age of patient from a brain MRI scan can have diagnostic value for a number of diseases that may cause structural changes and potential damage to the brain. A discrepancy between the predicted age and the real, chronological age of a patient might indicate the presence of disease. This requires an accurate predictor of brain age which may be learned from a set of healthy reference subjects, given their brain MRI data and their actual age.\n",
    "\n",
    "The objective for the coursework is to implement different supervised learning approaches for age regression from brain MRI. We provided data from a total of 652 healthy subjects, that is split into different development sets and a held-out test set on which you will evaluate your final prediction accuracy.\n",
    "\n",
    "Each approach will require a processing pipeline with different components that you will need to implement using methods that were discussed in the lectures and tutorials. There are three dedicated parts in the Jupyter notebook for each approach which contain some detailed instructions and some helper code.\n",
    "\n",
    "You may find some useful ideas and implementations in the tutorial notebooks. Once you have implemented all approaches and obtained results from your experiments, we ask you to write a short summary report. The reports should contain a short introduction, description of each of your methods and the individual processing steps, your results with a brief discussion. The report should also include some figures and plots to support your findings.\n",
    "\n",
    "#### Read the text descriptions and the provided code cells carefully and look out for the cells marked with 'TASK' and 'ADD YOUR CODE HERE'."
   ]
  },
  {
   "cell_type": "markdown",
   "metadata": {
    "colab_type": "text",
    "id": "02OkRdnR5t4O"
   },
   "source": [
    "### Getting started and familiarise ourselves with the data\n",
    "\n",
    "The following cells provide some helper functions to load the data, and provide some overview and visualisation of the statistics over the total population of 652 subjects. The data will be split into different subsets to be used for different parts of the coursework. There is a set of 52 subjects to be used in part A to develop an image segmentation method (47 for training, 5 for validation). We then use 500 subjects for training and cross-validation of age regression approaches in part A, B and C. A remaining set of 100 subjects is used to test the final age prediction accuracy and will be made available towards the end of the coursework."
   ]
  },
  {
   "cell_type": "markdown",
   "metadata": {
    "colab_type": "text",
    "id": "Nk5tj8_l5t4Q"
   },
   "source": [
    "### Running on Colab or Azure"
   ]
  },
  {
   "cell_type": "code",
   "execution_count": 1,
   "metadata": {
    "colab": {
     "base_uri": "https://localhost:8080/",
     "height": 1000
    },
    "colab_type": "code",
    "id": "itFiHfuT5t4U",
    "outputId": "52f846a0-5147-457c-c4b9-c3832dfc448f"
   },
   "outputs": [],
   "source": [
    "! pip install SimpleITK==1.2.2 \n",
    "! wget https://www.doc.ic.ac.uk/~bglocker/teaching/notebooks/brainage-data.zip\n",
    "! unzip brainage-data.zip\n",
    "! pip install scikit-learn\n",
    "\n",
    "# data directory\n",
    "data_dir = 'data/brain_age/'"
   ]
  },
  {
   "cell_type": "markdown",
   "metadata": {
    "colab_type": "text",
    "id": "vjbFAoA05t4d"
   },
   "source": [
    "### Running on DoC lab machines"
   ]
  },
  {
   "cell_type": "code",
   "execution_count": 2,
   "metadata": {
    "colab": {},
    "colab_type": "code",
    "id": "PN0BKw0c5t4e"
   },
   "outputs": [],
   "source": [
    "# data directory\n",
    "data_dir = '/vol/lab/course/416/data/brain_age/'"
   ]
  },
  {
   "cell_type": "markdown",
   "metadata": {
    "colab_type": "text",
    "id": "AjrZU9kz5t4l"
   },
   "source": [
    "Let's start by loading the meta data of the entire population, that is the data containing information about the subject IDs, their age, and gender."
   ]
  },
  {
   "cell_type": "code",
   "execution_count": 3,
   "metadata": {
    "colab": {
     "base_uri": "https://localhost:8080/",
     "height": 204
    },
    "colab_type": "code",
    "id": "sdgxNAew5t4m",
    "outputId": "d064bcf0-c5f2-4dff-be6b-5149f6c8551c"
   },
   "outputs": [
    {
     "data": {
      "text/html": [
       "<div>\n",
       "<style scoped>\n",
       "    .dataframe tbody tr th:only-of-type {\n",
       "        vertical-align: middle;\n",
       "    }\n",
       "\n",
       "    .dataframe tbody tr th {\n",
       "        vertical-align: top;\n",
       "    }\n",
       "\n",
       "    .dataframe thead th {\n",
       "        text-align: right;\n",
       "    }\n",
       "</style>\n",
       "<table border=\"1\" class=\"dataframe\">\n",
       "  <thead>\n",
       "    <tr style=\"text-align: right;\">\n",
       "      <th></th>\n",
       "      <th>subject_id</th>\n",
       "      <th>age</th>\n",
       "      <th>gender_code</th>\n",
       "      <th>gender_text</th>\n",
       "    </tr>\n",
       "  </thead>\n",
       "  <tbody>\n",
       "    <tr>\n",
       "      <th>0</th>\n",
       "      <td>CC110033</td>\n",
       "      <td>24</td>\n",
       "      <td>1</td>\n",
       "      <td>MALE</td>\n",
       "    </tr>\n",
       "    <tr>\n",
       "      <th>1</th>\n",
       "      <td>CC110037</td>\n",
       "      <td>18</td>\n",
       "      <td>1</td>\n",
       "      <td>MALE</td>\n",
       "    </tr>\n",
       "    <tr>\n",
       "      <th>2</th>\n",
       "      <td>CC110045</td>\n",
       "      <td>24</td>\n",
       "      <td>2</td>\n",
       "      <td>FEMALE</td>\n",
       "    </tr>\n",
       "    <tr>\n",
       "      <th>3</th>\n",
       "      <td>CC110056</td>\n",
       "      <td>22</td>\n",
       "      <td>2</td>\n",
       "      <td>FEMALE</td>\n",
       "    </tr>\n",
       "    <tr>\n",
       "      <th>4</th>\n",
       "      <td>CC110062</td>\n",
       "      <td>20</td>\n",
       "      <td>1</td>\n",
       "      <td>MALE</td>\n",
       "    </tr>\n",
       "  </tbody>\n",
       "</table>\n",
       "</div>"
      ],
      "text/plain": [
       "  subject_id  age  gender_code gender_text\n",
       "0   CC110033   24            1        MALE\n",
       "1   CC110037   18            1        MALE\n",
       "2   CC110045   24            2      FEMALE\n",
       "3   CC110056   22            2      FEMALE\n",
       "4   CC110062   20            1        MALE"
      ]
     },
     "execution_count": 3,
     "metadata": {},
     "output_type": "execute_result"
    }
   ],
   "source": [
    "# Read the meta data using pandas\n",
    "import pandas as pd\n",
    "\n",
    "meta_data_all = pd.read_csv(data_dir + 'meta/meta_data_all.csv')\n",
    "meta_data_all.head() # show the first five data entries"
   ]
  },
  {
   "cell_type": "markdown",
   "metadata": {
    "colab_type": "text",
    "id": "hkOLyXZp5t4s"
   },
   "source": [
    "Let's have a look at some population statistics."
   ]
  },
  {
   "cell_type": "code",
   "execution_count": 4,
   "metadata": {
    "colab": {
     "base_uri": "https://localhost:8080/",
     "height": 924
    },
    "colab_type": "code",
    "id": "f4ePPzlj5t4u",
    "outputId": "3edd1beb-a70e-49e8-879a-bba31c9c0d0d",
    "scrolled": false
   },
   "outputs": [
    {
     "data": {
      "image/png": "[encoded data removed]",
      "text/plain": [
       "<Figure size 360x360 with 1 Axes>"
      ]
     },
     "metadata": {
      "needs_background": "light"
     },
     "output_type": "display_data"
    },
    {
     "data": {
      "image/png": "[encoded data removed]",
      "text/plain": [
       "<Figure size 432x288 with 1 Axes>"
      ]
     },
     "metadata": {
      "needs_background": "light"
     },
     "output_type": "display_data"
    },
    {
     "data": {
      "image/png": "[encoded data removed]",
      "text/plain": [
       "<Figure size 432x288 with 1 Axes>"
      ]
     },
     "metadata": {
      "needs_background": "light"
     },
     "output_type": "display_data"
    }
   ],
   "source": [
    "%matplotlib inline\n",
    "\n",
    "import matplotlib.pyplot as plt\n",
    "import seaborn as sns\n",
    "\n",
    "meta_data = meta_data_all\n",
    "\n",
    "sns.catplot(x=\"gender_text\", data=meta_data, kind=\"count\")\n",
    "plt.title('Gender distribution')\n",
    "plt.xlabel('Gender')\n",
    "plt.show()\n",
    "\n",
    "sns.distplot(meta_data['age'], bins=[10,20,30,40,50,60,70,80,90])\n",
    "plt.title('Age distribution')\n",
    "plt.xlabel('Age')\n",
    "plt.show()\n",
    "\n",
    "plt.scatter(range(len(meta_data['age'])),meta_data['age'], marker='.')\n",
    "plt.grid()\n",
    "plt.xlabel('Subject')\n",
    "plt.ylabel('Age')\n",
    "plt.show()"
   ]
  },
  {
   "cell_type": "markdown",
   "metadata": {
    "colab_type": "text",
    "id": "Zb3FUBvj5t4z"
   },
   "source": [
    "### Set up a simple medical image viewer and import SimpleITK"
   ]
  },
  {
   "cell_type": "code",
   "execution_count": 5,
   "metadata": {
    "colab": {},
    "colab_type": "code",
    "id": "PDljToBH5t40"
   },
   "outputs": [],
   "source": [
    "import numpy as np\n",
    "import SimpleITK as sitk\n",
    "import matplotlib.pyplot as plt\n",
    "\n",
    "from ipywidgets import interact, fixed\n",
    "from IPython.display import display\n",
    "\n",
    "# Calculate parameters low and high from window and level\n",
    "def wl_to_lh(window, level):\n",
    "    low = level - window/2\n",
    "    high = level + window/2\n",
    "    return low,high\n",
    "\n",
    "def display_image(img, x=None, y=None, z=None, window=None, level=None, colormap='gray', crosshair=False):\n",
    "    # Convert SimpleITK image to NumPy array\n",
    "    img_array = sitk.GetArrayFromImage(img)\n",
    "    \n",
    "    # Get image dimensions in millimetres\n",
    "    size = img.GetSize()\n",
    "    spacing = img.GetSpacing()\n",
    "    width  = size[0] * spacing[0]\n",
    "    height = size[1] * spacing[1]\n",
    "    depth  = size[2] * spacing[2]\n",
    "    \n",
    "    if x is None:\n",
    "        x = np.floor(size[0]/2).astype(int)\n",
    "    if y is None:\n",
    "        y = np.floor(size[1]/2).astype(int)\n",
    "    if z is None:\n",
    "        z = np.floor(size[2]/2).astype(int)\n",
    "    \n",
    "    if window is None:\n",
    "        window = np.max(img_array) - np.min(img_array)\n",
    "    \n",
    "    if level is None:\n",
    "        level = window / 2 + np.min(img_array)\n",
    "    \n",
    "    low,high = wl_to_lh(window,level)\n",
    "\n",
    "    # Display the orthogonal slices\n",
    "    fig, (ax1, ax2, ax3) = plt.subplots(1, 3, figsize=(10, 4))\n",
    "\n",
    "    ax1.imshow(img_array[z,:,:], cmap=colormap, clim=(low, high), extent=(0, width, height, 0))\n",
    "    ax2.imshow(img_array[:,y,:], origin='lower', cmap=colormap, clim=(low, high), extent=(0, width,  0, depth))\n",
    "    ax3.imshow(img_array[:,:,x], origin='lower', cmap=colormap, clim=(low, high), extent=(0, height, 0, depth))\n",
    "\n",
    "    # Additionally display crosshairs\n",
    "    if crosshair:\n",
    "        ax1.axhline(y * spacing[1], lw=1)\n",
    "        ax1.axvline(x * spacing[0], lw=1)\n",
    "        ax2.axhline(z * spacing[2], lw=1)\n",
    "        ax2.axvline(x * spacing[0], lw=1)\n",
    "        ax3.axhline(z * spacing[2], lw=1)\n",
    "        ax3.axvline(y * spacing[1], lw=1)\n",
    "\n",
    "    plt.show()\n",
    "    \n",
    "def interactive_view(img):\n",
    "    size = img.GetSize() \n",
    "    img_array = sitk.GetArrayFromImage(img)\n",
    "    interact(display_image,img=fixed(img),\n",
    "             x=(0, size[0] - 1),\n",
    "             y=(0, size[1] - 1),\n",
    "             z=(0, size[2] - 1),\n",
    "             window=(0,np.max(img_array) - np.min(img_array)),\n",
    "             level=(np.min(img_array),np.max(img_array)));"
   ]
  },
  {
   "cell_type": "markdown",
   "metadata": {
    "colab_type": "text",
    "id": "DjG65v565t45"
   },
   "source": [
    "### Imaging data\n",
    "\n",
    "Let's check out the imaging data that is available for each subject. This cell also shows how to retrieve data given a particular subject ID from the meta data."
   ]
  },
  {
   "cell_type": "code",
   "execution_count": 6,
   "metadata": {
    "colab": {
     "base_uri": "https://localhost:8080/",
     "height": 792
    },
    "colab_type": "code",
    "id": "vcc1m5xw5t47",
    "outputId": "53a395aa-0fee-4d33-eb97-47cc83daecde"
   },
   "outputs": [
    {
     "name": "stdout",
     "output_type": "stream",
     "text": [
      "Imaging data of subject CC110033 with age 24\n",
      "\n",
      "MR Image (used in part A)\n"
     ]
    },
    {
     "data": {
      "image/png": "[encoded data removed]",
      "text/plain": [
       "<Figure size 720x288 with 3 Axes>"
      ]
     },
     "metadata": {
      "needs_background": "light"
     },
     "output_type": "display_data"
    },
    {
     "name": "stdout",
     "output_type": "stream",
     "text": [
      "Brain mask (used in part A)\n"
     ]
    },
    {
     "data": {
      "image/png": "[encoded data removed]",
      "text/plain": [
       "<Figure size 720x288 with 3 Axes>"
      ]
     },
     "metadata": {
      "needs_background": "light"
     },
     "output_type": "display_data"
    },
    {
     "name": "stdout",
     "output_type": "stream",
     "text": [
      "Spatially normalised grey matter maps (used in part B and C)\n"
     ]
    },
    {
     "data": {
      "image/png": "[encoded data removed]",
      "text/plain": [
       "<Figure size 720x288 with 3 Axes>"
      ]
     },
     "metadata": {
      "needs_background": "light"
     },
     "output_type": "display_data"
    }
   ],
   "source": [
    "# Subject with index 0\n",
    "def print_with_ID(id):\n",
    "  ID = meta_data['subject_id'][id]\n",
    "  age = meta_data['age'][id]\n",
    "\n",
    "  # Image\n",
    "  image_filename = data_dir + 'images/sub-' + ID + '_T1w_unbiased.nii.gz'\n",
    "  img = sitk.ReadImage(image_filename)\n",
    "\n",
    "  # Mask\n",
    "  mask_filename = data_dir + 'masks/sub-' + ID + '_T1w_brain_mask.nii.gz'\n",
    "  msk = sitk.ReadImage(mask_filename)\n",
    "\n",
    "  # Grey matter map\n",
    "  gm_filename = data_dir + 'greymatter/wc1sub-' + ID + '_T1w.nii.gz'\n",
    "  gm = sitk.ReadImage(gm_filename)\n",
    "\n",
    "  print('Imaging data of subject ' + ID + ' with age ' + str(age))\n",
    "\n",
    "  print('\\nMR Image (used in part A)')\n",
    "  display_image(img, window=400, level=200)\n",
    "\n",
    "  print('Brain mask (used in part A)')\n",
    "  display_image(msk)\n",
    "\n",
    "  print('Spatially normalised grey matter maps (used in part B and C)')\n",
    "  display_image(gm)\n",
    "\n",
    "print_with_ID(0)"
   ]
  },
  {
   "cell_type": "markdown",
   "metadata": {
    "colab_type": "text",
    "id": "x0yxTx-V5t4_"
   },
   "source": [
    "## Part A: Volume-based regression using brain structure segmentation\n",
    "\n",
    "The first approach aims to regress the age of a subject using the volumes of brain tissues as features. The brain structures include grey matter (GM), white matter (WM), and cerebrospinal fluid (CSF). It is known that with increasing age the ventricles enlarge (filled with CSF), while it is assumed that grey and white matter volume may decrease over time. However, as overall brain volume varies across individuals, taking the absolute volumes of tissues might not be predictive. Instead, relative volumes need to be computed as the ratios between each tissue volume and overall brain volume. To this end, a four-class (GM, WM, CSF, and background) brain segmentation needs to be implemented which will be trained using a total of 52 subjects (47 for training, 5 for validation). The segmentation method is then applied to the remaining 600 brain scans which will be used to train and test the age regression. Brain masks are provided which have been generated with a state-of-the-art neuroimaging brain extraction tool.\n",
    "\n",
    "Different regression techniques should be explored, and it might be beneficial to investigate what the best set of features is for this task. Are all volume features equally useful, or is it even better to combine some of them and create new features. How does a simple linear regression perform compared to a model with higher order polynomials? Do you need regularisation? How about other regression methods such as regression trees, SVMs or neural networks? The accuracy of different methods should be evaluated using two-fold cross-validation on the set of 500 subjects, and average age prediction accuracy should be compared and reported appropriately. The final prediction accuracy will be evaluated on a hold-out set of 100 subjects.\n",
    "\n",
    "*Note:* For part A, only the MR images and the brain masks should be used from the imaging data. The spatially normalised grey matter maps are used in part B and C only. If you struggle with task A-1, you can continue with A-2 using the provided reference segmentations in subfolder `segs_refs`."
   ]
  },
  {
   "cell_type": "markdown",
   "metadata": {
    "colab_type": "text",
    "id": "gcpQY4145t5A"
   },
   "source": [
    "### TASK A-1: Brain tissue segmentation\n",
    "\n",
    "Implement a CNN model for brain tissue segmentation which can provide segmentations of GM, WM, and CSF. For this task (and only for this task), we provide a subset of 52 subjects which are split into 47 images for training and 5 for validation. The template code below has the data handling and main training routines already implemented, so you can focus on implementing a suitable CNN model. A simple model is provided, but this won't perform very well.\n",
    "\n",
    "Once your model is trained and you are happy with the results on the validation data you should apply it to the 500 subjects later used for training the age regressor. We provide reference segmentations in a subfolder `segs_refs` for all subjects. Calculate Dice similarity coefficients per tissue when comparing your predicted segmentations to the reference segmentations. Summarise the statistics of the 500 Dice scores for each tissue class in [box-and-whisker-plots](https://matplotlib.org/api/_as_gen/matplotlib.pyplot.boxplot.html).\n",
    "\n",
    "*Note:* Implementing a full-fledged machine learning pipeline with training and testing procedures in Jupyter notebooks is a bit cumbersome and a pain to debug. Also, running bigger training tasks can be unstable. The code below should work as is on your VM. However, if you want to get a bit more serious about implementing an advanced CNN approach for image segmentation, you may want to move code into separate Python scripts and run these from the terminal."
   ]
  },
  {
   "cell_type": "markdown",
   "metadata": {
    "colab_type": "text",
    "id": "6JewafQG5t5B"
   },
   "source": [
    "#### Imports"
   ]
  },
  {
   "cell_type": "code",
   "execution_count": 7,
   "metadata": {
    "colab": {},
    "colab_type": "code",
    "id": "MKoFOJuy5t5C"
   },
   "outputs": [],
   "source": [
    "import os\n",
    "import torch\n",
    "import torch.nn as nn\n",
    "import torch.nn.functional as F\n",
    "from torch.utils.data import Dataset, DataLoader\n",
    "from tqdm import tqdm\n",
    "from sklearn import metrics"
   ]
  },
  {
   "cell_type": "markdown",
   "metadata": {
    "colab_type": "text",
    "id": "v_h2xLn55t5J"
   },
   "source": [
    "#### Data Helpers"
   ]
  },
  {
   "cell_type": "code",
   "execution_count": 8,
   "metadata": {
    "colab": {},
    "colab_type": "code",
    "id": "E_d05-y55t5J"
   },
   "outputs": [],
   "source": [
    "def zero_mean_unit_var(image, mask):\n",
    "    \"\"\"Normalizes an image to zero mean and unit variance.\"\"\"\n",
    "\n",
    "    img_array = sitk.GetArrayFromImage(image)\n",
    "    img_array = img_array.astype(np.float32)\n",
    "\n",
    "    msk_array = sitk.GetArrayFromImage(mask)\n",
    "\n",
    "    mean = np.mean(img_array[msk_array>0])\n",
    "    std = np.std(img_array[msk_array>0])\n",
    "\n",
    "    if std > 0:\n",
    "        img_array = (img_array - mean) / std\n",
    "        img_array[msk_array==0] = 0\n",
    "\n",
    "    image_normalised = sitk.GetImageFromArray(img_array)\n",
    "    image_normalised.CopyInformation(image)\n",
    "\n",
    "    return image_normalised\n",
    "\n",
    "\n",
    "def resample_image(image, out_spacing=(1.0, 1.0, 1.0), out_size=None, is_label=False, pad_value=0):\n",
    "    \"\"\"Resamples an image to given element spacing and output size.\"\"\"\n",
    "\n",
    "    original_spacing = np.array(image.GetSpacing())\n",
    "    original_size = np.array(image.GetSize())\n",
    "\n",
    "    if out_size is None:\n",
    "        out_size = np.round(np.array(original_size * original_spacing / np.array(out_spacing))).astype(int)\n",
    "    else:\n",
    "        out_size = np.array(out_size)\n",
    "\n",
    "    original_direction = np.array(image.GetDirection()).reshape(len(original_spacing),-1)\n",
    "    original_center = (np.array(original_size, dtype=float) - 1.0) / 2.0 * original_spacing\n",
    "    out_center = (np.array(out_size, dtype=float) - 1.0) / 2.0 * np.array(out_spacing)\n",
    "\n",
    "    original_center = np.matmul(original_direction, original_center)\n",
    "    out_center = np.matmul(original_direction, out_center)\n",
    "    out_origin = np.array(image.GetOrigin()) + (original_center - out_center)\n",
    "\n",
    "    resample = sitk.ResampleImageFilter()\n",
    "    resample.SetOutputSpacing(out_spacing)\n",
    "    resample.SetSize(out_size.tolist())\n",
    "    resample.SetOutputDirection(image.GetDirection())\n",
    "    resample.SetOutputOrigin(out_origin.tolist())\n",
    "    resample.SetTransform(sitk.Transform())\n",
    "    resample.SetDefaultPixelValue(pad_value)\n",
    "\n",
    "    if is_label:\n",
    "        resample.SetInterpolator(sitk.sitkNearestNeighbor)\n",
    "    else:\n",
    "        resample.SetInterpolator(sitk.sitkBSpline)\n",
    "\n",
    "    return resample.Execute(image)\n",
    "\n",
    "\n",
    "class ImageSegmentationDataset(Dataset):\n",
    "    \"\"\"Dataset for image segmentation.\"\"\"\n",
    "\n",
    "    def __init__(self, file_list_img, file_list_seg, file_list_msk, img_spacing, img_size):\n",
    "        self.samples = []\n",
    "        self.img_names = []\n",
    "        self.seg_names = []\n",
    "        for idx, _ in enumerate(tqdm(range(len(file_list_img)), desc='Loading Data')):\n",
    "            img_path = file_list_img[idx]\n",
    "            seg_path = file_list_seg[idx]\n",
    "            msk_path = file_list_msk[idx]\n",
    "\n",
    "            img = sitk.ReadImage(img_path, sitk.sitkFloat32)\n",
    "\n",
    "            seg = sitk.ReadImage(seg_path, sitk.sitkInt64)\n",
    "\n",
    "            msk = sitk.ReadImage(msk_path, sitk.sitkUInt8)\n",
    "\n",
    "            #pre=processing\n",
    "            img = zero_mean_unit_var(img, msk)\n",
    "            img = resample_image(img, img_spacing, img_size, is_label=False)\n",
    "            seg = resample_image(seg, img_spacing, img_size, is_label=True)\n",
    "            msk = resample_image(msk, img_spacing, img_size, is_label=True)\n",
    "\n",
    "            sample = {'img': img, 'seg': seg, 'msk': msk}\n",
    "\n",
    "            self.samples.append(sample)\n",
    "            self.img_names.append(os.path.basename(img_path))\n",
    "            self.seg_names.append(os.path.basename(seg_path))\n",
    "\n",
    "    def __len__(self):\n",
    "        return len(self.samples)\n",
    "\n",
    "    def __getitem__(self, item):\n",
    "        sample = self.samples[item]\n",
    "\n",
    "        image = torch.from_numpy(sitk.GetArrayFromImage(sample['img'])).unsqueeze(0)\n",
    "        seg = torch.from_numpy(sitk.GetArrayFromImage(sample['seg'])).unsqueeze(0)\n",
    "        msk = torch.from_numpy(sitk.GetArrayFromImage(sample['msk'])).unsqueeze(0)\n",
    "\n",
    "        return {'img': image, 'seg': seg, 'msk': msk}\n",
    "\n",
    "    def get_sample(self, item):\n",
    "        return self.samples[item]\n",
    "\n",
    "    def get_img_name(self, item):\n",
    "        return self.img_names[item]\n",
    "\n",
    "    def get_seg_name(self, item):\n",
    "        return self.seg_names[item]\n"
   ]
  },
  {
   "cell_type": "markdown",
   "metadata": {
    "colab_type": "text",
    "id": "V_GjyRd_5t5P"
   },
   "source": [
    "#### Check that the GPU is up and running"
   ]
  },
  {
   "cell_type": "code",
   "execution_count": 9,
   "metadata": {
    "colab": {
     "base_uri": "https://localhost:8080/",
     "height": 51
    },
    "colab_type": "code",
    "id": "6YiYu3wq5t5Q",
    "outputId": "f09f11ec-dd8d-4cac-fbc2-44df2da4d9cf"
   },
   "outputs": [
    {
     "name": "stdout",
     "output_type": "stream",
     "text": [
      "Device: cuda:0\n",
      "GPU: Vega 10 XT [Radeon RX Vega 64]\n"
     ]
    }
   ],
   "source": [
    "cuda_dev = '0' #GPU device 0 (can be changed if multiple GPUs are available)\n",
    "\n",
    "use_cuda = torch.cuda.is_available()\n",
    "device = torch.device(\"cuda:\" + cuda_dev if use_cuda else \"cpu\")\n",
    "\n",
    "print('Device: ' + str(device))\n",
    "if use_cuda:\n",
    "    print('GPU: ' + str(torch.cuda.get_device_name(int(cuda_dev))))        "
   ]
  },
  {
   "cell_type": "markdown",
   "metadata": {
    "colab_type": "text",
    "id": "CFkjxzzI5t5U"
   },
   "source": [
    "#### Config and hyper-parameters\n",
    "\n",
    "Here we set some default hyper-parameters and a starting configuration for the image resolution and others.\n",
    "\n",
    "**TASK: This needs to be revisited to optimise these values. In particular, you may want to run your final model on higher resolution images.**"
   ]
  },
  {
   "cell_type": "code",
   "execution_count": 10,
   "metadata": {
    "colab": {},
    "colab_type": "code",
    "id": "3o4W9RFP5t5W"
   },
   "outputs": [],
   "source": [
    "rnd_seed = 42 #fixed random seed\n",
    "\n",
    "img_size = [64, 64, 64]\n",
    "img_spacing = [3, 3, 3]\n",
    "\n",
    "num_epochs = 100\n",
    "learning_rate = 0.001\n",
    "batch_size = 2\n",
    "val_interval = 10\n",
    "\n",
    "num_classes = 4\n",
    "\n",
    "out_dir = './output'\n",
    "\n",
    "# Create output directory\n",
    "if not os.path.exists(out_dir):\n",
    "    os.makedirs(out_dir)"
   ]
  },
  {
   "cell_type": "markdown",
   "metadata": {
    "colab_type": "text",
    "id": "9ZYdw60-5t5a"
   },
   "source": [
    "#### Loading and pre-processing of training and validation data"
   ]
  },
  {
   "cell_type": "code",
   "execution_count": 11,
   "metadata": {
    "colab": {},
    "colab_type": "code",
    "id": "NLm7LVpa5t5a"
   },
   "outputs": [],
   "source": [
    "meta_data_seg_train = pd.read_csv(data_dir + 'meta/meta_data_seg_train.csv')\n",
    "ids_seg_train = list(meta_data_seg_train['subject_id'])\n",
    "files_seg_img_train = [data_dir + 'images/sub-' + f + '_T1w_unbiased.nii.gz' for f in ids_seg_train]\n",
    "files_seg_seg_train = [data_dir + 'segs_refs/sub-' + f + '_T1w_seg.nii.gz' for f in ids_seg_train]\n",
    "files_seg_msk_train = [data_dir + 'masks/sub-' + f + '_T1w_brain_mask.nii.gz' for f in ids_seg_train]\n",
    "\n",
    "meta_data_seg_val = pd.read_csv(data_dir + 'meta/meta_data_seg_val.csv')\n",
    "ids_seg_val = list(meta_data_seg_val['subject_id'])\n",
    "files_seg_img_val = [data_dir + 'images/sub-' + f + '_T1w_unbiased.nii.gz' for f in ids_seg_val]\n",
    "files_seg_seg_val = [data_dir + 'segs_refs/sub-' + f + '_T1w_seg.nii.gz' for f in ids_seg_val]\n",
    "files_seg_msk_val = [data_dir + 'masks/sub-' + f + '_T1w_brain_mask.nii.gz' for f in ids_seg_val]"
   ]
  },
  {
   "cell_type": "markdown",
   "metadata": {
    "colab_type": "text",
    "id": "f95vPGB25t5e"
   },
   "source": [
    "We apply some standard pre-processing on the data such as intensity normalization (zero mean unit variance) and downsampling according to the configuration above.\n",
    "\n",
    "**You may want to use initially the validation data with 5 subjects for training which is more efficient when debugging your training routine and model implementation. Make sure to later train your final model on the actual training data.**"
   ]
  },
  {
   "cell_type": "code",
   "execution_count": 12,
   "metadata": {
    "colab": {
     "base_uri": "https://localhost:8080/",
     "height": 51
    },
    "colab_type": "code",
    "id": "QpwkOdVd5t5h",
    "outputId": "a79513b7-a769-4d3e-c74b-c84c463400f1"
   },
   "outputs": [
    {
     "name": "stderr",
     "output_type": "stream",
     "text": [
      "Loading Data: 100%|██████████| 47/47 [00:06<00:00,  7.56it/s]\n",
      "Loading Data: 100%|██████████| 5/5 [00:00<00:00,  7.84it/s]\n"
     ]
    }
   ],
   "source": [
    "# LOAD ACTUAL TRAINING DATA\n",
    "dataset_train = ImageSegmentationDataset(files_seg_img_train, files_seg_seg_train, files_seg_msk_train, img_spacing, img_size)\n",
    "# LOAD VALIDATION DATA AS TRAINING FOR QUICK DEBUGGING\n",
    "#dataset_train = ImageSegmentationDataset(files_seg_img_val, files_seg_seg_val, files_seg_msk_val, img_spacing, img_size)\n",
    "dataloader_train = torch.utils.data.DataLoader(dataset_train, batch_size=batch_size, shuffle=True)\n",
    "\n",
    "dataset_val = ImageSegmentationDataset(files_seg_img_val, files_seg_seg_val, files_seg_msk_val, img_spacing, img_size)\n",
    "dataloader_val = torch.utils.data.DataLoader(dataset_val, batch_size=1, shuffle=False)"
   ]
  },
  {
   "cell_type": "markdown",
   "metadata": {
    "colab_type": "text",
    "id": "nOu1Q3hh5t5l"
   },
   "source": [
    "#### Visualise training example\n",
    "\n",
    "Just to check how a training image looks like after pre-processing."
   ]
  },
  {
   "cell_type": "code",
   "execution_count": 13,
   "metadata": {
    "colab": {
     "base_uri": "https://localhost:8080/",
     "height": 665
    },
    "colab_type": "code",
    "id": "amp1ay0o5t5l",
    "outputId": "0db9935c-1b4f-4693-d3e1-36216bad03fe"
   },
   "outputs": [
    {
     "name": "stdout",
     "output_type": "stream",
     "text": [
      "Image: sub-CC221040_T1w_unbiased.nii.gz\n"
     ]
    },
    {
     "data": {
      "image/png": "[encoded data removed]",
      "text/plain": [
       "<Figure size 720x288 with 3 Axes>"
      ]
     },
     "metadata": {
      "needs_background": "light"
     },
     "output_type": "display_data"
    },
    {
     "name": "stdout",
     "output_type": "stream",
     "text": [
      "Segmentation\n"
     ]
    },
    {
     "data": {
      "image/png": "[encoded data removed]",
      "text/plain": [
       "<Figure size 720x288 with 3 Axes>"
      ]
     },
     "metadata": {
      "needs_background": "light"
     },
     "output_type": "display_data"
    },
    {
     "name": "stdout",
     "output_type": "stream",
     "text": [
      "Mask\n"
     ]
    },
    {
     "data": {
      "image/png": "[encoded data removed]",
      "text/plain": [
       "<Figure size 720x288 with 3 Axes>"
      ]
     },
     "metadata": {
      "needs_background": "light"
     },
     "output_type": "display_data"
    }
   ],
   "source": [
    "sample = dataset_train.get_sample(0)\n",
    "img_name = dataset_train.get_img_name(0)\n",
    "seg_name = dataset_train.get_seg_name(0)\n",
    "print('Image: ' + img_name)\n",
    "display_image(sample['img'], window=5, level=0)\n",
    "print('Segmentation')\n",
    "display_image(sitk.LabelToRGB(sample['seg']))\n",
    "print('Mask')\n",
    "display_image(sample['msk'])"
   ]
  },
  {
   "cell_type": "markdown",
   "metadata": {
    "colab_type": "text",
    "id": "9ACBTkvr5t5p"
   },
   "source": [
    "#### The Model\n",
    "\n",
    "**TASK:** This is the **key part of task A-1** where you have to design a suitable CNN model for brain segmentation. The simple model provided below works to some degree (it let's you run through the upcoming cells), but it will not perform very well. Use what you learned in the lectures to come up with a good architecture. Start with a simple, shallow model and only increase complexity (e.g., number of layers) if needed."
   ]
  },
  {
   "cell_type": "code",
   "execution_count": 14,
   "metadata": {
    "colab": {},
    "colab_type": "code",
    "id": "3IVFBd6OgdKZ"
   },
   "outputs": [],
   "source": [
    "class SimpleNet3D(nn.Module):\n",
    "\n",
    "    def __init__(self, num_classes):\n",
    "        super(SimpleNet3D, self).__init__()\n",
    "        self.conv1 = nn.Conv3d(1, 4, kernel_size=3, padding=1)\n",
    "        self.conv2 = nn.Conv3d(4, 8, kernel_size=3, padding=1)\n",
    "        self.conv3 = nn.Conv3d(8, 4, kernel_size=3, padding=1)\n",
    "        self.conv4 = nn.Conv3d(4, num_classes, kernel_size=3, padding=1)\n",
    "\n",
    "    def forward(self, x):\n",
    "        x = F.relu(self.conv1(x))\n",
    "        x = F.relu(self.conv2(x))\n",
    "        x = F.relu(self.conv3(x))\n",
    "        x = self.conv4(x)\n",
    "        print(\"x len is:\" + str(x.shape))\n",
    "        return F.softmax(x, dim=1)"
   ]
  },
  {
   "cell_type": "code",
   "execution_count": 15,
   "metadata": {
    "colab": {},
    "colab_type": "code",
    "id": "UFDYGYwfvNu8"
   },
   "outputs": [],
   "source": [
    "def outputSize(in_size, kernel_size, stride, padding):\n",
    "        output = int((in_size - kernel_size + 2*(padding)) / stride) + 1\n",
    "        return(output)"
   ]
  },
  {
   "cell_type": "code",
   "execution_count": 16,
   "metadata": {
    "colab": {},
    "colab_type": "code",
    "id": "dVM6jUxF5t5q"
   },
   "outputs": [],
   "source": [
    "########################################\n",
    "# Better model:\n",
    "# a) Use log_softmax instead of softmax\n",
    "########################################\n",
    "\n",
    "class ModSimpleNet3D(nn.Module):\n",
    "\n",
    "    def __init__(self, num_classes):\n",
    "        super(ModSimpleNet3D, self).__init__()\n",
    "        self.conv1 = nn.Conv3d(1, 4, kernel_size=3, padding=1)\n",
    "        self.conv2 = nn.Conv3d(4, 8, kernel_size=3, padding=1)\n",
    "        self.conv3 = nn.Conv3d(8, 4, kernel_size=3, padding=1)\n",
    "        self.conv4 = nn.Conv3d(4, num_classes, kernel_size=3, padding=1)\n",
    "\n",
    "    def forward(self, x):\n",
    "        # print(\"x intial shape is \" + str(x.shape)) # 2, 1, 64, 64, 64        \n",
    "        x = F.relu(self.conv1(x))\n",
    "        # print(\"x after first is  \" + str(x.shape)) # 2, 4, 64, 64, 64        \n",
    "        x = F.relu(self.conv2(x))\n",
    "        # print(\"x after second is \" + str(x.shape)) # 2, 8, 64, 64, 64   \n",
    "        x = F.relu(self.conv3(x))\n",
    "        # print(\"x after third is \" + str(x.shape)) # 2, 4, 64, 64, 64  \n",
    "        x = self.conv4(x)\n",
    "        # print(\"x after forth is \" + str(x.shape)) # 2, 4, 64, 64, 64\n",
    "        res =  F.log_softmax(x, dim=1)\n",
    "        # print(\"x before ret is \" + str(res.shape)) # 2, 4, 64, 64, 64\n",
    "        return res"
   ]
  },
  {
   "cell_type": "code",
   "execution_count": 17,
   "metadata": {
    "colab": {},
    "colab_type": "code",
    "id": "RfGl26IXaFQC"
   },
   "outputs": [],
   "source": [
    "class InClassCNN(nn.Module):\n",
    "    def __init__(self, num_classes):\n",
    "        super(InClassCNN, self).__init__()\n",
    "        self.conv1 = nn.Conv3d(1, 18, kernel_size=3, stride=1, padding=1)\n",
    "        self.pool1 = nn.MaxPool3d(kernel_size=2, stride=1, padding=1)\n",
    "        self.conv2 = nn.Conv3d(18, 36, kernel_size=3, stride=1, padding=1)\n",
    "        self.pool2 = nn.MaxPool3d(kernel_size=2, stride=1, padding=0)\n",
    "        self.conv3 = nn.Conv3d(36, 18, kernel_size=3, stride=1, padding=1)\n",
    "        self.pool3 = nn.MaxPool3d(kernel_size=2, stride=1, padding=1)        \n",
    "        self.conv4 = nn.Conv3d(18, num_classes, kernel_size=3, stride=1, padding=1)\n",
    "        self.pool4 = nn.MaxPool3d(kernel_size=2, stride=1, padding=0)        \n",
    "\n",
    "        #self.fc1 = nn.Linear(18 * 64 * 64 * 64, 32)\n",
    "        #self.fc2 = nn.Linear(32, num_classes)\n",
    "\n",
    "    def forward(self, x):\n",
    "        #Computes the activation of the first convolution\n",
    "        #print(\"x intial shape is \" + str(x.shape)) # 2, 1, 64, 64, 64        \n",
    "        x = F.relu(self.conv1(x))\n",
    "        #print(\"x shape is \" + str(x.shape)) # 2, 18, 64, 64, 64\n",
    "        x = self.pool1(x)\n",
    "        #print(\"x shape after pool is \" + str(x.shape)) # 2, 18, 64, 64, 64\n",
    "        x = F.relu(self.conv2(x))\n",
    "        x = self.pool2(x)\n",
    "        x = F.relu(self.conv3(x))\n",
    "        x = self.pool3(x)\n",
    "        x = F.relu(self.conv4(x))\n",
    "        x = self.pool4(x)\n",
    "        #Reshape data to input to the input layer of the neural net\n",
    "        #Size changes from (18, 16, 16) to (1, 4608)\n",
    "        #Recall that the -1 infers this dimension from the other given dimension\n",
    "        #x = x.view(-1, 18 * 32 * 32 * 32)\n",
    "        #print(\"x shape after view \" + str(x.shape)) # 2, 589824\n",
    "        #Computes the activation of the first fully connected layer\n",
    "        #Size changes from (1, 4608) to (1, 64)\n",
    "        #x = F.relu(self.fc1(x))\n",
    "        #print(\"x shape after relu \" + str(x.shape)) # 2, 32\n",
    "        \n",
    "        #Computes the second fully connected layer (activation applied later)\n",
    "        #Size changes from (1, 64) to (1, 10)\n",
    "        #x = self.fc2(x)\n",
    "        #print(\"x shape after fc2 \" + str(x.shape)) # 2, 4\n",
    "        return F.log_softmax(x, dim=1)"
   ]
  },
  {
   "cell_type": "markdown",
   "metadata": {
    "colab_type": "text",
    "id": "VCy8o92A5t5u"
   },
   "source": [
    "#### TRAINING\n",
    "\n",
    "Below is an implementation of a full training procedure including a loop for intermediate evaluation of the model on the validation data. Feel free to modify this procedure. For example, in addition to the loss you may want to monitor precision, recall and Dice scores (or others)."
   ]
  },
  {
   "cell_type": "code",
   "execution_count": 18,
   "metadata": {
    "colab": {
     "base_uri": "https://localhost:8080/",
     "height": 1000
    },
    "colab_type": "code",
    "id": "X01LQn9_5t5v",
    "outputId": "6bbf7461-7ae2-4e59-8af1-7d130bb297e8",
    "scrolled": true
   },
   "outputs": [
    {
     "name": "stdout",
     "output_type": "stream",
     "text": [
      "START TRAINING...\n"
     ]
    },
    {
     "name": "stderr",
     "output_type": "stream",
     "text": [
      "../torch/csrc/utils/python_arg_parser.cpp:698: UserWarning: This overload of add_ is deprecated:\n",
      "\tadd_(Number alpha, Tensor other)\n",
      "Consider using one of the following signatures instead:\n",
      "\tadd_(Tensor other, Number alpha)\n"
     ]
    },
    {
     "name": "stdout",
     "output_type": "stream",
     "text": [
      "+ TRAINING \tEpoch: 1 \tLoss: 0.832558 \tOverall Dice Score: 0.37677750454399656\n",
      "Dice score for...\n",
      "CSF: 0.0\tGM: 0.7933899182745346\tWM: 0.0\t\n",
      "--------------------------------------------------\n",
      "+ VALIDATE \tEpoch: 1 \tLoss: 0.806343 \tOverall Dice Score: 0.33571143798392683\n",
      "Dice score for...\n",
      "CSF: 0.0\tGM: 0.8312896186220513\tWM: 0.0\t\n"
     ]
    },
    {
     "data": {
      "image/png": "[encoded data removed]",
      "text/plain": [
       "<Figure size 720x288 with 3 Axes>"
      ]
     },
     "metadata": {
      "needs_background": "light"
     },
     "output_type": "display_data"
    },
    {
     "name": "stdout",
     "output_type": "stream",
     "text": [
      "--------------------------------------------------\n",
      "+ TRAINING \tEpoch: 2 \tLoss: 0.311744 \tOverall Dice Score: 0.49511647972389994\n",
      "Dice score for...\n",
      "CSF: 0.21508588498879763\tGM: 0.9094269243811461\tWM: 5.588309257034284e-05\t\n",
      "+ TRAINING \tEpoch: 3 \tLoss: 0.238503 \tOverall Dice Score: 0.6219931563261529\n",
      "Dice score for...\n",
      "CSF: 0.6618003315058014\tGM: 0.6072357824309256\tWM: 0.6627813504823151\t\n",
      "+ TRAINING \tEpoch: 4 \tLoss: 0.219100 \tOverall Dice Score: 0.6444852169309271\n",
      "Dice score for...\n",
      "CSF: 0.5714951963436247\tGM: 0.6436272947176959\tWM: 0.7982590205329259\t\n",
      "+ TRAINING \tEpoch: 5 \tLoss: 0.202046 \tOverall Dice Score: 0.6761544445230182\n",
      "Dice score for...\n",
      "CSF: 0.6728600808453301\tGM: 0.6758391649863599\tWM: 0.7425042968998663\t\n",
      "+ TRAINING \tEpoch: 6 \tLoss: 0.191161 \tOverall Dice Score: 0.636649483011838\n",
      "Dice score for...\n",
      "CSF: 0.6371362191244804\tGM: 0.5435621957361088\tWM: 0.7627650232091331\t\n",
      "+ TRAINING \tEpoch: 7 \tLoss: 0.189383 \tOverall Dice Score: 0.6907653106053949\n",
      "Dice score for...\n",
      "CSF: 0.6990230066183423\tGM: 0.6591370508347624\tWM: 0.802099570542389\t\n",
      "+ TRAINING \tEpoch: 8 \tLoss: 0.208978 \tOverall Dice Score: 0.6857052847129244\n",
      "Dice score for...\n",
      "CSF: 0.6945437807598344\tGM: 0.6418970456124887\tWM: 0.787088533489449\t\n",
      "+ TRAINING \tEpoch: 9 \tLoss: 0.181231 \tOverall Dice Score: 0.6466894813025432\n",
      "Dice score for...\n",
      "CSF: 0.823001095290252\tGM: 0.5818606968988386\tWM: 0.7630305544034287\t\n",
      "+ TRAINING \tEpoch: 10 \tLoss: 0.169647 \tOverall Dice Score: 0.697171445813623\n",
      "Dice score for...\n",
      "CSF: 0.6363850476094344\tGM: 0.7041055384965313\tWM: 0.8019758183426717\t\n",
      "--------------------------------------------------\n",
      "+ VALIDATE \tEpoch: 10 \tLoss: 0.186906 \tOverall Dice Score: 0.6995078474606231\n",
      "Dice score for...\n",
      "CSF: 0.6560174900384358\tGM: 0.7382983937442912\tWM: 0.7585336655126671\t\n"
     ]
    },
    {
     "data": {
      "image/png": "[encoded data removed]",
      "text/plain": [
       "<Figure size 720x288 with 3 Axes>"
      ]
     },
     "metadata": {
      "needs_background": "light"
     },
     "output_type": "display_data"
    },
    {
     "name": "stdout",
     "output_type": "stream",
     "text": [
      "--------------------------------------------------\n",
      "+ TRAINING \tEpoch: 11 \tLoss: 0.170762 \tOverall Dice Score: 0.7016331146799366\n",
      "Dice score for...\n",
      "CSF: 0.5600572566591985\tGM: 0.7965303157060456\tWM: 0.7508433734939758\t\n",
      "+ TRAINING \tEpoch: 12 \tLoss: 0.230101 \tOverall Dice Score: 0.6625172345873548\n",
      "Dice score for...\n",
      "CSF: 0.5733952049497294\tGM: 0.6855539157573852\tWM: 0.8094913151364764\t\n",
      "+ TRAINING \tEpoch: 13 \tLoss: 0.195139 \tOverall Dice Score: 0.7051805138524675\n",
      "Dice score for...\n",
      "CSF: 0.7269588568140405\tGM: 0.667578609469614\tWM: 0.7771374685666387\t\n",
      "+ TRAINING \tEpoch: 14 \tLoss: 0.193783 \tOverall Dice Score: 0.6910382388162535\n",
      "Dice score for...\n",
      "CSF: 0.7526585676429088\tGM: 0.6191359201428003\tWM: 0.7998679590673109\t\n",
      "+ TRAINING \tEpoch: 15 \tLoss: 0.189429 \tOverall Dice Score: 0.7236172993056976\n",
      "Dice score for...\n",
      "CSF: 0.6484626554706737\tGM: 0.7799803228510002\tWM: 0.7483303213640293\t\n",
      "+ TRAINING \tEpoch: 16 \tLoss: 0.186123 \tOverall Dice Score: 0.7099647951341256\n",
      "Dice score for...\n",
      "CSF: 0.6881015663303487\tGM: 0.7109478324761205\tWM: 0.7639143914993528\t\n",
      "+ TRAINING \tEpoch: 17 \tLoss: 0.196060 \tOverall Dice Score: 0.6972790532938873\n",
      "Dice score for...\n",
      "CSF: 0.5303209215670839\tGM: 0.8047882523720363\tWM: 0.7588968507255976\t\n",
      "+ TRAINING \tEpoch: 18 \tLoss: 0.156954 \tOverall Dice Score: 0.7317789914335615\n",
      "Dice score for...\n",
      "CSF: 0.6484104263974688\tGM: 0.7954821564160972\tWM: 0.7266012527607806\t\n",
      "+ TRAINING \tEpoch: 19 \tLoss: 0.175970 \tOverall Dice Score: 0.7409996001599362\n",
      "Dice score for...\n",
      "CSF: 0.7280784461625496\tGM: 0.7211079969424525\tWM: 0.8428982563060775\t\n",
      "+ TRAINING \tEpoch: 20 \tLoss: 0.181457 \tOverall Dice Score: 0.7341450838852973\n",
      "Dice score for...\n",
      "CSF: 0.6968614442459811\tGM: 0.7589966091807344\tWM: 0.7614207879295892\t\n",
      "--------------------------------------------------\n",
      "+ VALIDATE \tEpoch: 20 \tLoss: 0.167383 \tOverall Dice Score: 0.7280138800791015\n",
      "Dice score for...\n",
      "CSF: 0.6445063273291268\tGM: 0.7741763015438081\tWM: 0.8091756179629869\t\n"
     ]
    },
    {
     "data": {
      "image/png": "[encoded data removed]",
      "text/plain": [
       "<Figure size 720x288 with 3 Axes>"
      ]
     },
     "metadata": {
      "needs_background": "light"
     },
     "output_type": "display_data"
    },
    {
     "name": "stdout",
     "output_type": "stream",
     "text": [
      "--------------------------------------------------\n",
      "+ TRAINING \tEpoch: 21 \tLoss: 0.157591 \tOverall Dice Score: 0.7366283979230672\n",
      "Dice score for...\n",
      "CSF: 0.7045864933188876\tGM: 0.700455738157713\tWM: 0.8588250270511107\t\n",
      "+ TRAINING \tEpoch: 22 \tLoss: 0.190127 \tOverall Dice Score: 0.7138871417743158\n",
      "Dice score for...\n",
      "CSF: 0.632088736134979\tGM: 0.7242485827361215\tWM: 0.7977401781339175\t\n",
      "+ TRAINING \tEpoch: 23 \tLoss: 0.170613 \tOverall Dice Score: 0.7369421022101538\n",
      "Dice score for...\n",
      "CSF: 0.6687902028698665\tGM: 0.7624985203014639\tWM: 0.7878369437012744\t\n",
      "+ TRAINING \tEpoch: 24 \tLoss: 0.146586 \tOverall Dice Score: 0.7456177305614067\n",
      "Dice score for...\n",
      "CSF: 0.7091346153846153\tGM: 0.7581181634262594\tWM: 0.8088879758970144\t\n",
      "+ TRAINING \tEpoch: 25 \tLoss: 0.149022 \tOverall Dice Score: 0.7454715773657705\n",
      "Dice score for...\n",
      "CSF: 0.6741530975107618\tGM: 0.7670191857744502\tWM: 0.8303429027113237\t\n",
      "+ TRAINING \tEpoch: 26 \tLoss: 0.146680 \tOverall Dice Score: 0.7394088669950739\n",
      "Dice score for...\n",
      "CSF: 0.774037660389935\tGM: 0.7486909919714174\tWM: 0.749560231936934\t\n",
      "+ TRAINING \tEpoch: 27 \tLoss: 0.149656 \tOverall Dice Score: 0.7225209429183713\n",
      "Dice score for...\n",
      "CSF: 0.7084678494209639\tGM: 0.7259468751732935\tWM: 0.7544425988027705\t\n",
      "+ TRAINING \tEpoch: 28 \tLoss: 0.150347 \tOverall Dice Score: 0.7423124009794038\n",
      "Dice score for...\n",
      "CSF: 0.7911476783605683\tGM: 0.7354624031165037\tWM: 0.789867444820414\t\n",
      "+ TRAINING \tEpoch: 29 \tLoss: 0.185378 \tOverall Dice Score: 0.7032456161016483\n",
      "Dice score for...\n",
      "CSF: 0.8522695323482553\tGM: 0.5796879835435894\tWM: 0.7970137524557958\t\n",
      "+ TRAINING \tEpoch: 30 \tLoss: 0.158454 \tOverall Dice Score: 0.756280828674778\n",
      "Dice score for...\n",
      "CSF: 0.7146939293878588\tGM: 0.7703098708713819\tWM: 0.8064651906726156\t\n",
      "--------------------------------------------------\n",
      "+ VALIDATE \tEpoch: 30 \tLoss: 0.155974 \tOverall Dice Score: 0.750084228652716\n",
      "Dice score for...\n",
      "CSF: 0.6567934398416514\tGM: 0.8063977189191598\tWM: 0.8206671196091753\t\n"
     ]
    },
    {
     "data": {
      "image/png": "[encoded data removed]",
      "text/plain": [
       "<Figure size 720x288 with 3 Axes>"
      ]
     },
     "metadata": {
      "needs_background": "light"
     },
     "output_type": "display_data"
    },
    {
     "name": "stdout",
     "output_type": "stream",
     "text": [
      "--------------------------------------------------\n",
      "+ TRAINING \tEpoch: 31 \tLoss: 0.161243 \tOverall Dice Score: 0.7480852030077815\n",
      "Dice score for...\n",
      "CSF: 0.5883304304553372\tGM: 0.8249934009578039\tWM: 0.8274595917779618\t\n",
      "+ TRAINING \tEpoch: 32 \tLoss: 0.138419 \tOverall Dice Score: 0.7608115019605615\n",
      "Dice score for...\n",
      "CSF: 0.7192880312733927\tGM: 0.7866704993429697\tWM: 0.8051728069318219\t\n",
      "+ TRAINING \tEpoch: 33 \tLoss: 0.168256 \tOverall Dice Score: 0.7483603551355639\n",
      "Dice score for...\n",
      "CSF: 0.6193370872792424\tGM: 0.7950126462219412\tWM: 0.8099306694283824\t\n",
      "+ TRAINING \tEpoch: 34 \tLoss: 0.168296 \tOverall Dice Score: 0.7729047935892615\n",
      "Dice score for...\n",
      "CSF: 0.734791940288945\tGM: 0.7891548159514055\tWM: 0.8055180899647428\t\n",
      "+ TRAINING \tEpoch: 35 \tLoss: 0.172663 \tOverall Dice Score: 0.7456982987256614\n",
      "Dice score for...\n",
      "CSF: 0.7901057537193046\tGM: 0.706458389807536\tWM: 0.8227376447820687\t\n",
      "+ TRAINING \tEpoch: 36 \tLoss: 0.143342 \tOverall Dice Score: 0.733500530529565\n",
      "Dice score for...\n",
      "CSF: 0.8624931954273272\tGM: 0.6876221872963546\tWM: 0.8406899173896513\t\n",
      "+ TRAINING \tEpoch: 37 \tLoss: 0.144969 \tOverall Dice Score: 0.7691963555960872\n",
      "Dice score for...\n",
      "CSF: 0.8251674016005226\tGM: 0.7524642060579899\tWM: 0.85362201285331\t\n",
      "+ TRAINING \tEpoch: 38 \tLoss: 0.179453 \tOverall Dice Score: 0.7681355012389052\n",
      "Dice score for...\n",
      "CSF: 0.6659154619908756\tGM: 0.8222979250541964\tWM: 0.81903626858799\t\n",
      "+ TRAINING \tEpoch: 39 \tLoss: 0.169919 \tOverall Dice Score: 0.7636462522249324\n",
      "Dice score for...\n",
      "CSF: 0.6374442236304323\tGM: 0.7771777890983189\tWM: 0.8637203928365107\t\n",
      "+ TRAINING \tEpoch: 40 \tLoss: 0.132721 \tOverall Dice Score: 0.7663767552597055\n",
      "Dice score for...\n",
      "CSF: 0.6991750931346461\tGM: 0.7797696135232771\tWM: 0.8671483338248304\t\n",
      "--------------------------------------------------\n",
      "+ VALIDATE \tEpoch: 40 \tLoss: 0.146368 \tOverall Dice Score: 0.7696724738675959\n",
      "Dice score for...\n",
      "CSF: 0.7277562016724398\tGM: 0.8084698966868543\tWM: 0.8323411414520513\t\n"
     ]
    },
    {
     "data": {
      "image/png": "[encoded data removed]",
      "text/plain": [
       "<Figure size 720x288 with 3 Axes>"
      ]
     },
     "metadata": {
      "needs_background": "light"
     },
     "output_type": "display_data"
    },
    {
     "name": "stdout",
     "output_type": "stream",
     "text": [
      "--------------------------------------------------\n",
      "+ TRAINING \tEpoch: 41 \tLoss: 0.158696 \tOverall Dice Score: 0.7527584730410724\n",
      "Dice score for...\n",
      "CSF: 0.6884104349607024\tGM: 0.7852891869237217\tWM: 0.8142663656884875\t\n",
      "+ TRAINING \tEpoch: 42 \tLoss: 0.186641 \tOverall Dice Score: 0.755158738574428\n",
      "Dice score for...\n",
      "CSF: 0.7728504495377991\tGM: 0.7517218543046358\tWM: 0.7751969096473185\t\n",
      "+ TRAINING \tEpoch: 43 \tLoss: 0.131728 \tOverall Dice Score: 0.7900038920014845\n",
      "Dice score for...\n",
      "CSF: 0.8137949591891649\tGM: 0.812452851018418\tWM: 0.8216564699690809\t\n",
      "+ TRAINING \tEpoch: 44 \tLoss: 0.156701 \tOverall Dice Score: 0.7744533856722277\n",
      "Dice score for...\n",
      "CSF: 0.7893549842129003\tGM: 0.7826615764046083\tWM: 0.785691506325077\t\n",
      "+ TRAINING \tEpoch: 45 \tLoss: 0.156551 \tOverall Dice Score: 0.7522951079388639\n",
      "Dice score for...\n",
      "CSF: 0.8005947040578298\tGM: 0.7072650925281171\tWM: 0.7948573924982837\t\n",
      "+ TRAINING \tEpoch: 46 \tLoss: 0.158585 \tOverall Dice Score: 0.7610808882547043\n",
      "Dice score for...\n",
      "CSF: 0.7832328652566293\tGM: 0.7582182521347776\tWM: 0.7736334037813446\t\n",
      "+ TRAINING \tEpoch: 47 \tLoss: 0.127957 \tOverall Dice Score: 0.7835450940070505\n",
      "Dice score for...\n",
      "CSF: 0.8459184139600749\tGM: 0.7586930510814541\tWM: 0.8425761463061641\t\n",
      "+ TRAINING \tEpoch: 48 \tLoss: 0.127090 \tOverall Dice Score: 0.7846292296616271\n",
      "Dice score for...\n",
      "CSF: 0.7988089390962672\tGM: 0.7541804917708586\tWM: 0.8623747108712414\t\n",
      "+ TRAINING \tEpoch: 49 \tLoss: 0.147433 \tOverall Dice Score: 0.7654947569441457\n",
      "Dice score for...\n",
      "CSF: 0.7574093856358532\tGM: 0.7635792019347037\tWM: 0.8283648669435472\t\n",
      "+ TRAINING \tEpoch: 50 \tLoss: 0.147722 \tOverall Dice Score: 0.802105498936051\n",
      "Dice score for...\n",
      "CSF: 0.737247718012697\tGM: 0.8540042767469131\tWM: 0.8311294431638966\t\n",
      "--------------------------------------------------\n",
      "+ VALIDATE \tEpoch: 50 \tLoss: 0.139596 \tOverall Dice Score: 0.7823993280761513\n",
      "Dice score for...\n",
      "CSF: 0.7214162773543152\tGM: 0.8503484669680034\tWM: 0.8123847423080657\t\n"
     ]
    },
    {
     "data": {
      "image/png": "[encoded data removed]",
      "text/plain": [
       "<Figure size 720x288 with 3 Axes>"
      ]
     },
     "metadata": {
      "needs_background": "light"
     },
     "output_type": "display_data"
    },
    {
     "name": "stdout",
     "output_type": "stream",
     "text": [
      "--------------------------------------------------\n",
      "\n",
      "Finished TRAINING.\n"
     ]
    },
    {
     "data": {
      "image/png": "[encoded data removed]",
      "text/plain": [
       "<Figure size 432x288 with 1 Axes>"
      ]
     },
     "metadata": {
      "needs_background": "light"
     },
     "output_type": "display_data"
    }
   ],
   "source": [
    "#img has size (2, 1, 64, 64, 64) = (B- batch size, N - number of channels, W, H, D)\n",
    "model_dir = os.path.join(out_dir, 'model')\n",
    "if not os.path.exists(model_dir):\n",
    "    os.makedirs(model_dir)\n",
    "\n",
    "torch.manual_seed(rnd_seed) #fix random seed\n",
    "\n",
    "model = ModSimpleNet3D(num_classes=num_classes).to(device)\n",
    "model.train()\n",
    "    \n",
    "optimizer = torch.optim.Adam(model.parameters(), lr=learning_rate)\n",
    "\n",
    "loss_train_log = []\n",
    "loss_val_log = []\n",
    "epoch_val_log = []\n",
    "num_epochs = 50\n",
    "matters={\n",
    "  'CSF': 1,\n",
    "  'GM': 2,\n",
    "  'WM': 3\n",
    "}\n",
    "def get_dice_score(img, ref, tissue_class):\n",
    "  check_ref = ref.cpu().squeeze().numpy().astype(np.uint8)\n",
    "  img_arr = img.cpu().squeeze().numpy().astype(np.uint8)\n",
    "  \n",
    "  check_ref[check_ref != tissue_class] = 0\n",
    "  img_arr[check_ref != tissue_class] = 0\n",
    "\n",
    "  dice_prd = sitk.GetImageFromArray(img_arr)\n",
    "  dice_seg = sitk.GetImageFromArray(check_ref)\n",
    "  overlap_filter = sitk.LabelOverlapMeasuresImageFilter()\n",
    "  overlap_filter.Execute(dice_prd, dice_seg)\n",
    "  dice_score = overlap_filter.GetDiceCoefficient()\n",
    "  return dice_score\n",
    "\n",
    "print('START TRAINING...')\n",
    "for epoch in range(1, num_epochs + 1):\n",
    "\n",
    "    # Training\n",
    "    for batch_idx, batch_samples in enumerate(dataloader_train):\n",
    "        img, seg = batch_samples['img'].to(device), batch_samples['seg'].to(device)\n",
    "        optimizer.zero_grad()\n",
    "        # print(\"img size is\" + str(img.shape))\n",
    "        prd = model(img)\n",
    "        prd_flat = prd.view(prd.size(0), prd.size(1), -1) # (2, 4, 262144) - (N, C=no_classes, )\n",
    "        seg_flat = seg.view(seg.size(0), seg.size(1), -1)\n",
    "        #print(\"seg is\" + str(seg_flat.squeeze(1).shape) + \"prd is: \" + str(prd_flat.shape))\n",
    "\n",
    "        loss = F.cross_entropy(prd_flat, seg_flat.squeeze(1))  # seg_flat.squeeze(1) - (1, 262144)\n",
    "        loss.backward()\n",
    "        optimizer.step()\n",
    "\n",
    "    loss_train_log.append(loss.item())\n",
    "    prd = torch.argmax(prd, dim=1)\n",
    "    \n",
    "    # Getting the dice scores for overall\n",
    "    dice_prd = sitk.GetImageFromArray(prd.cpu().squeeze().numpy().astype(np.uint8))\n",
    "    dice_seg = sitk.GetImageFromArray(seg.cpu().squeeze().numpy().astype(np.uint8))\n",
    "    overlap_filter = sitk.LabelOverlapMeasuresImageFilter()\n",
    "    overlap_filter.Execute(dice_prd, dice_seg)\n",
    "    overall_dice_score = overlap_filter.GetDiceCoefficient()\n",
    "\n",
    "    print('+ TRAINING \\tEpoch: {} \\tLoss: {:.6f} \\tOverall Dice Score: {}'.format(epoch, loss.item(), overall_dice_score))\n",
    "    print('Dice score for...')\n",
    "    for matter, matter_num in matters.items():\n",
    "         print('{}: {}\\t'.format(matter, get_dice_score(prd, seg, matter_num)), end = '')\n",
    "    print()\n",
    "\n",
    "    # Validation\n",
    "    if epoch == 1 or epoch % val_interval == 0:\n",
    "        loss_val = 0\n",
    "        sum_pts = 0\n",
    "        with torch.no_grad():\n",
    "            for data_sample in dataloader_val:\n",
    "                img, seg = data_sample['img'].to(device), data_sample['seg'].to(device)\n",
    "                prd = model(img)\n",
    "                prd_flat = prd.view(prd.size(0), prd.size(1), -1)\n",
    "                seg_flat = seg.view(seg.size(0), seg.size(1), -1)\n",
    "                \n",
    "                loss_val += F.cross_entropy(prd_flat, seg_flat.squeeze(1), reduction='sum').item()\n",
    "                sum_pts += seg_flat.size(2)\n",
    "                \n",
    "        prd = torch.argmax(prd, dim=1)\n",
    "        prediction = sitk.GetImageFromArray(prd.cpu().squeeze().numpy().astype(np.uint8))\n",
    "\n",
    "        # Getting the dice scores for overall\n",
    "        dice_prd = sitk.GetImageFromArray(prd.cpu().squeeze().numpy().astype(np.uint8))\n",
    "        dice_seg = sitk.GetImageFromArray(seg.cpu().squeeze().numpy().astype(np.uint8))\n",
    "        overlap_filter = sitk.LabelOverlapMeasuresImageFilter()\n",
    "        overlap_filter.Execute(dice_prd, dice_seg)\n",
    "        overall_dice_score = overlap_filter.GetDiceCoefficient()\n",
    "\n",
    "        loss_val /= sum_pts\n",
    "\n",
    "        loss_val_log.append(loss_val)\n",
    "        epoch_val_log.append(epoch)\n",
    "\n",
    "        \n",
    "        # ==== Report training loss and accuracy ======\n",
    "        # y_pred and loss can be either np.array, or torch.tensor (see later). If tensor, make it np.array.\n",
    "        #y_pred_numpy = y_pred if type(y_pred) is np.ndarray else y_pred.detach().numpy()\n",
    "        #y_pred_lbls = np.argmax(y_pred_numpy, axis=1) # y_pred is soft/probability. Make it a hard one-hot label.\n",
    "        #y_real_lbls = np.argmax(y_real, axis=1)\n",
    "        \n",
    "        #acc_train = np.mean(y_pred_lbls == y_real_lbls) * 100. # percentage\n",
    "        \n",
    "        #loss_numpy = loss if type(loss) is type(float) else loss.item()\n",
    "        #print(\"[iter:\", t, \"]: Training Loss: {0:.2f}\".format(loss), \"\\t Accuracy: {0:.2f}\".format(acc_train))\n",
    "\n",
    "\n",
    "        print('--------------------------------------------------')\n",
    "        #getting dice scores for individual matters\n",
    "        print('+ VALIDATE \\tEpoch: {} \\tLoss: {:.6f} \\tOverall Dice Score: {}'.format(epoch, loss_val, overall_dice_score))\n",
    "        print('Dice score for...')\n",
    "        for matter, matter_num in matters.items():\n",
    "          print('{}: {}\\t'.format(matter, get_dice_score(prd, seg, matter_num)), end = '')\n",
    "        print()\n",
    "        display_image(sitk.LabelToRGB(prediction))\n",
    "        print('--------------------------------------------------')\n",
    "\n",
    "torch.save(model.state_dict(), os.path.join(model_dir, 'model.pt'))\n",
    "\n",
    "print('\\nFinished TRAINING.')\n",
    "\n",
    "plt.plot(range(1, num_epochs + 1), loss_train_log, c='r', label='train')\n",
    "plt.plot(epoch_val_log, loss_val_log, c='b', label='val')\n",
    "plt.legend(loc='upper right')\n",
    "plt.xlabel('epoch')\n",
    "plt.ylabel('loss')\n",
    "plt.show()"
   ]
  },
  {
   "cell_type": "markdown",
   "metadata": {
    "colab_type": "text",
    "id": "0qkPANAw5t5y"
   },
   "source": [
    "#### Loading and pre-processing of testing data\n",
    "\n",
    "Now that we have trained a model, the next cells are about applying that model to the 500 subjects that are used for training the age regressor. Note, at a later stage you will also need to run the model on the 100 subjects from the hold-out set, once these have been made available. Before testing on the full set, you may want to initially just test on the 5 validation subjects to check everything is working fine."
   ]
  },
  {
   "cell_type": "code",
   "execution_count": 19,
   "metadata": {
    "colab": {
     "base_uri": "https://localhost:8080/",
     "height": 34
    },
    "colab_type": "code",
    "id": "bWc1_hlo5t51",
    "outputId": "2f1d600e-633a-4a49-9b9a-33cf05769496"
   },
   "outputs": [
    {
     "name": "stderr",
     "output_type": "stream",
     "text": [
      "Loading Data: 100%|██████████| 500/500 [01:05<00:00,  7.64it/s]\n"
     ]
    }
   ],
   "source": [
    "meta_data_reg_train = pd.read_csv(data_dir + 'meta/meta_data_reg_train.csv')\n",
    "ids_seg_test = list(meta_data_reg_train['subject_id'])\n",
    "files_seg_img_test = [data_dir + 'images/sub-' + f + '_T1w_unbiased.nii.gz' for f in ids_seg_test]\n",
    "files_seg_seg_test = [data_dir + 'segs_refs/sub-' + f + '_T1w_seg.nii.gz' for f in ids_seg_test]\n",
    "files_seg_msk_test = [data_dir + 'masks/sub-' + f + '_T1w_brain_mask.nii.gz' for f in ids_seg_test]\n",
    "\n",
    "dataset_test = ImageSegmentationDataset(files_seg_img_test, files_seg_seg_test, files_seg_msk_test, img_spacing, img_size)\n",
    "dataloader_test = torch.utils.data.DataLoader(dataset_test, batch_size=1, shuffle=False)"
   ]
  },
  {
   "cell_type": "markdown",
   "metadata": {
    "colab_type": "text",
    "id": "5AZrnQZo5t54"
   },
   "source": [
    "#### Visualise testing example\n",
    "\n",
    "Just to check how a testing image looks like after pre-processing."
   ]
  },
  {
   "cell_type": "code",
   "execution_count": 20,
   "metadata": {
    "colab": {
     "base_uri": "https://localhost:8080/",
     "height": 665
    },
    "colab_type": "code",
    "id": "IMmZVlnF5t55",
    "outputId": "b83cfe13-34bd-4294-8ef9-15d61b0d2280"
   },
   "outputs": [
    {
     "name": "stdout",
     "output_type": "stream",
     "text": [
      "Image: sub-CC520745_T1w_unbiased.nii.gz\n"
     ]
    },
    {
     "data": {
      "image/png": "[encoded data removed]",
      "text/plain": [
       "<Figure size 720x288 with 3 Axes>"
      ]
     },
     "metadata": {
      "needs_background": "light"
     },
     "output_type": "display_data"
    },
    {
     "name": "stdout",
     "output_type": "stream",
     "text": [
      "Segmentation\n"
     ]
    },
    {
     "data": {
      "image/png": "[encoded data removed]",
      "text/plain": [
       "<Figure size 720x288 with 3 Axes>"
      ]
     },
     "metadata": {
      "needs_background": "light"
     },
     "output_type": "display_data"
    },
    {
     "name": "stdout",
     "output_type": "stream",
     "text": [
      "Mask\n"
     ]
    },
    {
     "data": {
      "image/png": "[encoded data removed]",
      "text/plain": [
       "<Figure size 720x288 with 3 Axes>"
      ]
     },
     "metadata": {
      "needs_background": "light"
     },
     "output_type": "display_data"
    }
   ],
   "source": [
    "sample = dataset_test.get_sample(0)\n",
    "img_name = dataset_test.get_img_name(0)\n",
    "seg_name = dataset_test.get_seg_name(0)\n",
    "print('Image: ' + img_name)\n",
    "display_image(sample['img'], window=5, level=0)\n",
    "print('Segmentation')\n",
    "display_image(sitk.LabelToRGB(sample['seg']))\n",
    "print('Mask')\n",
    "display_image(sample['msk'])"
   ]
  },
  {
   "cell_type": "markdown",
   "metadata": {
    "colab_type": "text",
    "id": "WLKlAOIU5t59"
   },
   "source": [
    "#### TESTING\n",
    "\n",
    "Below is an implementation of a full testing procedure that saves the segmentations in an output folder. Feel free to modify this procedure.\n",
    "\n",
    "**TASK: You will need to add the calculations of Dice scores (and possibly others) to evaluate the segmentation performance.**"
   ]
  },
  {
   "cell_type": "code",
   "execution_count": 21,
   "metadata": {
    "colab": {
     "base_uri": "https://localhost:8080/",
     "height": 849
    },
    "colab_type": "code",
    "id": "--89o6wt5t59",
    "outputId": "f1895c8d-64ef-42ee-94ba-815643787990",
    "scrolled": true
   },
   "outputs": [
    {
     "name": "stdout",
     "output_type": "stream",
     "text": [
      "START TESTING...\n"
     ]
    },
    {
     "data": {
      "image/png": "[encoded data removed]",
      "text/plain": [
       "<Figure size 432x288 with 1 Axes>"
      ]
     },
     "metadata": {
      "needs_background": "light"
     },
     "output_type": "display_data"
    },
    {
     "name": "stdout",
     "output_type": "stream",
     "text": [
      "+ TESTING \tLoss: 0.150464, \tOverall Dice Score: 0.7721952417633797\n",
      "Dice score for...\n",
      "CSF: 0.707252319743876\tGM: 0.8266594913831832\tWM: 0.8118769724789601\t\n",
      "\n",
      "\n",
      "Reference segmentation\n"
     ]
    },
    {
     "data": {
      "image/png": "[encoded data removed]",
      "text/plain": [
       "<Figure size 720x288 with 3 Axes>"
      ]
     },
     "metadata": {
      "needs_background": "light"
     },
     "output_type": "display_data"
    },
    {
     "name": "stdout",
     "output_type": "stream",
     "text": [
      "Predicted segmentation\n"
     ]
    },
    {
     "data": {
      "image/png": "[encoded data removed]",
      "text/plain": [
       "<Figure size 720x288 with 3 Axes>"
      ]
     },
     "metadata": {
      "needs_background": "light"
     },
     "output_type": "display_data"
    },
    {
     "name": "stdout",
     "output_type": "stream",
     "text": [
      "\n",
      "Finished TESTING.\n"
     ]
    }
   ],
   "source": [
    "pred_dir = os.path.join(out_dir, 'pred')\n",
    "if not os.path.exists(pred_dir):\n",
    "    os.makedirs(pred_dir)\n",
    "\n",
    "model = ModSimpleNet3D(num_classes=num_classes)\n",
    "model.load_state_dict(torch.load(os.path.join(model_dir, 'model.pt')))\n",
    "model.to(device)\n",
    "model.eval()\n",
    "    \n",
    "print('START TESTING...')\n",
    "\n",
    "loss_test = 0\n",
    "sum_pts = 0\n",
    "idx_test = 0\n",
    "dice_scores = []\n",
    "dice_scores_by_parts = {\n",
    "  'CSF' : [],\n",
    "  'GM' : [],\n",
    "  'WM' : []\n",
    "}\n",
    "\n",
    "with torch.no_grad():\n",
    "    for data_sample in dataloader_test:\n",
    "        img, seg = data_sample['img'].to(device), data_sample['seg'].to(device)\n",
    "        prd = model(img)\n",
    "        prd_flat = prd.view(prd.size(0), prd.size(1), -1)\n",
    "        seg_flat = seg.view(seg.size(0), seg.size(1), -1)\n",
    "        loss_test += F.cross_entropy(prd_flat, seg_flat.squeeze(1), reduction='sum').item()\n",
    "        sum_pts += seg_flat.size(2)        \n",
    "        \n",
    "        prd = torch.argmax(prd, dim=1)\n",
    "        dice_prd = sitk.GetImageFromArray(prd.cpu().squeeze().numpy().astype(np.uint8))\n",
    "        dice_seg = sitk.GetImageFromArray(seg.cpu().squeeze().numpy().astype(np.uint8))\n",
    "        overlap_filter = sitk.LabelOverlapMeasuresImageFilter()\n",
    "        overlap_filter.Execute(dice_prd, dice_seg)\n",
    "        overall_dice_score = overlap_filter.GetDiceCoefficient()\n",
    "        dice_scores.append(overall_dice_score)\n",
    "\n",
    "        for matter, matter_num in matters.items():\n",
    "            dice_scores_by_parts[matter].append(get_dice_score(prd, seg, matter_num))\n",
    "\n",
    "        sample = dataset_test.get_sample(idx_test)\n",
    "        name = dataset_test.get_seg_name(idx_test)\n",
    "        prediction = sitk.GetImageFromArray(prd.cpu().squeeze().numpy().astype(np.uint8))\n",
    "        prediction.CopyInformation(sample['seg'])\n",
    "        sitk.WriteImage(prediction, os.path.join(pred_dir, name))\n",
    "        \n",
    "        idx_test += 1\n",
    "        \n",
    "\n",
    "loss_test /= sum_pts\n",
    "fig1, ax1 = plt.subplots()\n",
    "ax1.set_title('Dice Score box plot')\n",
    "ax1.boxplot(dice_scores)\n",
    "plt.show()\n",
    "\n",
    "print('+ TESTING \\tLoss: {:.6f}, \\tOverall Dice Score: {}'.format(loss_test, np.mean(dice_scores)))\n",
    "print('Dice score for...')\n",
    "for matter, scores in dice_scores_by_parts.items():\n",
    "      print('{}: {}\\t'.format(matter, np.mean(scores)), end = '')\n",
    "print()\n",
    "\n",
    "# Show last testing sample as an example\n",
    "print('\\n\\nReference segmentation')\n",
    "display_image(sitk.LabelToRGB(sample['seg']))\n",
    "print('Predicted segmentation')\n",
    "display_image(sitk.LabelToRGB(prediction))\n",
    "\n",
    "print('\\nFinished TESTING.')"
   ]
  },
  {
   "cell_type": "markdown",
   "metadata": {
    "colab_type": "text",
    "id": "c8ub7EhW5t6A"
   },
   "source": [
    "### TASK A-2: Feature calculation\n",
    "\n",
    "Start by calculating the three absolute tissue volumes for each subject. Plot the volumes against the subjects' ages. Taking the absolute volumes of tissues as features, however, might not be predictive. Instead, relative volumes need to be computed as the ratios between each tissue volume and overall brain volume. But you might also want to explore using different combinations or even polynomial features.\n",
    "\n",
    "Implement a function that constructs a big matrix $X$ with a row for each subject and features across the columns. Start with just calculating three simple features of relative tissue volumes for GM, WM and CSF, and compare these to the absolute volumes plotted above.\n",
    "\n",
    "*Note:* If you are struggling with the previous task on image segmentation, or if you prefer to work on this and the following tasks first, you can continue here using the provided reference segmentations which can be found in a subfolder `segs_refs`."
   ]
  },
  {
   "cell_type": "code",
   "execution_count": null,
   "metadata": {
    "colab": {
     "base_uri": "https://localhost:8080/",
     "height": 34
    },
    "colab_type": "code",
    "id": "YLTHj5RH5t6E",
    "outputId": "4a616cec-9f23-4845-ce2e-ab029f15cd6a"
   },
   "outputs": [
    {
     "name": "stderr",
     "output_type": "stream",
     "text": [
      "Calculating Features:  40%|███▉      | 199/500 [17:17<26:15,  5.23s/it]"
     ]
    }
   ],
   "source": [
    "## CALCULATE ABSOLUTE TISSUE VOLUMES\n",
    "\n",
    "import os\n",
    "\n",
    "# USE THIS TO RUN THE CALCULATIONS ON YOUR SEGMENTATONS\n",
    "#seg_dir = './output/pred/'\n",
    "\n",
    "# USE THIS TO RUN THE CALCULATIONS ON OUR REFERENCE SEGMENTATIONS\n",
    "seg_dir = data_dir + 'segs_refs/'\n",
    "\n",
    "meta_data_reg_train = pd.read_csv(data_dir + 'meta/meta_data_reg_train.csv')\n",
    "ids_reg_train = list(meta_data_reg_train['subject_id'])\n",
    "files_reg_seg_train = [seg_dir + 'sub-' + f + '_T1w_seg.nii.gz' for f in ids_reg_train]\n",
    "\n",
    "# THIS MATRIX WILL STORE THE VOLUMES PER TISSUE CLASS\n",
    "vols = np.zeros((3,len(files_reg_seg_train)))\n",
    "\n",
    "for idx, _ in enumerate(tqdm(range(len(files_reg_seg_train)), desc='Calculating Features')):\n",
    "    \n",
    "    seg_filename = files_reg_seg_train[idx]\n",
    "    \n",
    "    if os.path.exists(seg_filename):\n",
    "        seg = sitk.ReadImage(seg_filename)\n",
    "        img_array = sitk.GetArrayFromImage(seg)\n",
    "        GM = 0\n",
    "        WM = 0\n",
    "        CSF = 0\n",
    "        for cell in img_array.flat:\n",
    "            if cell == 1:\n",
    "                CSF += 1\n",
    "            elif cell == 2:\n",
    "                GM += 1\n",
    "            elif cell == 3:\n",
    "                WM += 1\n",
    "        vols[0][idx] = CSF\n",
    "        vols[1][idx] = GM\n",
    "        vols[2][idx] = WM"
   ]
  },
  {
   "cell_type": "markdown",
   "metadata": {
    "colab_type": "text",
    "id": "rjysR1W15t6H"
   },
   "source": [
    "Plot features versus age."
   ]
  },
  {
   "cell_type": "code",
   "execution_count": null,
   "metadata": {
    "colab": {
     "base_uri": "https://localhost:8080/",
     "height": 295
    },
    "colab_type": "code",
    "id": "ySGreh2b5t6I",
    "outputId": "9cdccdbe-aa55-4736-ac7b-21458db96095"
   },
   "outputs": [],
   "source": [
    "plt.scatter(vols[0,:],meta_data_reg_train['age'], marker='.')\n",
    "plt.scatter(vols[1,:],meta_data_reg_train['age'], marker='.')\n",
    "plt.scatter(vols[2,:],meta_data_reg_train['age'], marker='.')\n",
    "plt.grid()\n",
    "plt.title('Unnormalised')\n",
    "plt.xlabel('Volume')\n",
    "plt.ylabel('Age')\n",
    "plt.legend(('CSF','GM','WM'))\n",
    "plt.show()"
   ]
  },
  {
   "cell_type": "code",
   "execution_count": null,
   "metadata": {
    "colab": {
     "base_uri": "https://localhost:8080/",
     "height": 34
    },
    "colab_type": "code",
    "id": "pk8nfV2I5t6M",
    "outputId": "49b8adf0-e6fb-49e3-b702-f9c4a4ad5987"
   },
   "outputs": [],
   "source": [
    "## CALCULATE RELATIVE TISSUE VOLUMES\n",
    "\n",
    "vols_normalised = np.zeros((3,len(files_reg_seg_train)))\n",
    "\n",
    "for idx, _ in enumerate(tqdm(range(len(files_reg_seg_train)), desc='Calculating Features')):\n",
    "    CSF = vols[0][idx]\n",
    "    GM = vols[1][idx]\n",
    "    WM = vols[2][idx]\n",
    "    nonBackground = CSF + GM + WM\n",
    "    vols_normalised[0][idx] = CSF / nonBackground\n",
    "    vols_normalised[1][idx] = GM / nonBackground\n",
    "    vols_normalised[2][idx] = WM / nonBackground    "
   ]
  },
  {
   "cell_type": "markdown",
   "metadata": {
    "colab_type": "text",
    "id": "c_myZHXp5t6Q"
   },
   "source": [
    "Plot normalised features versus age."
   ]
  },
  {
   "cell_type": "code",
   "execution_count": null,
   "metadata": {
    "colab": {
     "base_uri": "https://localhost:8080/",
     "height": 295
    },
    "colab_type": "code",
    "id": "wmcsbG4m5t6Q",
    "outputId": "a6ead500-4d1d-48f9-a355-ceef6705d271"
   },
   "outputs": [],
   "source": [
    "plt.scatter(vols_normalised[0,:],meta_data_reg_train['age'], marker='.')\n",
    "plt.scatter(vols_normalised[1,:],meta_data_reg_train['age'], marker='.')\n",
    "plt.scatter(vols_normalised[2,:],meta_data_reg_train['age'], marker='.')\n",
    "plt.grid()\n",
    "plt.title('Normalised')\n",
    "plt.xlabel('Volume')\n",
    "plt.ylabel('Age')\n",
    "plt.legend(('CSF','GM','WM'))\n",
    "plt.show()"
   ]
  },
  {
   "cell_type": "markdown",
   "metadata": {
    "colab_type": "text",
    "id": "Dot59ko15t6T"
   },
   "source": [
    "Final data for age regression"
   ]
  },
  {
   "cell_type": "code",
   "execution_count": null,
   "metadata": {
    "colab": {
     "base_uri": "https://localhost:8080/",
     "height": 51
    },
    "colab_type": "code",
    "id": "uo2vOEJZ5t6U",
    "outputId": "1d4715df-7c9c-4769-d1d7-45a1bfd8fc17"
   },
   "outputs": [],
   "source": [
    "X = vols_normalised.T\n",
    "y = meta_data_reg_train['age'].values.reshape(-1,1)\n",
    "\n",
    "print(X.shape)\n",
    "print(y.shape)"
   ]
  },
  {
   "cell_type": "markdown",
   "metadata": {
    "colab_type": "text",
    "id": "H466Ygka5t6W"
   },
   "source": [
    "### TASK A-3: Age regression and cross-validation\n",
    "\n",
    "Experiment with different regression methods from the [scikit-learn toolkit](http://scikit-learn.org/stable/supervised_learning.html#supervised-learning). Remember to construct the output vectur $y$ containing the age for each of the subjects.\n",
    "\n",
    "Evaluate the methods using two-fold [cross-validation](http://scikit-learn.org/stable/modules/cross_validation.html#cross-validation) where the dataset of 500 subjects is split into two equally sized sets $(X_1,y_1)$ and $(X_2,y_2)$ which are used for training and testing in an alternating way (so each set is used as $(X_{\\text{train}},y_{\\text{train}})$ and $(X_{\\text{test}},y_{\\text{test}})$ exactly once).\n",
    "\n",
    "Try using at least three different regression methods, and generate a plot allows easy comparison of the performance of the three methods. Useful [error metrics](https://scikit-learn.org/stable/modules/model_evaluation.html#regression-metrics) to report include mean absolute error and r2 score. You might also want to plot the real vs predicted ages.\n",
    "\n",
    "*Note:* These [scikit-learn examples](https://scikit-learn.org/stable/auto_examples/) might serve as an inspiration.\n",
    "\n",
    "*Hint:* Be careful how you split the dataset into two folds. Take into account the data characteristics shown at the top of the notebook."
   ]
  },
  {
   "cell_type": "markdown",
   "metadata": {
    "colab_type": "text",
    "id": "1_g8zZaT5t6a"
   },
   "source": [
    "Error calculation and plotting"
   ]
  },
  {
   "cell_type": "code",
   "execution_count": null,
   "metadata": {
    "colab": {},
    "colab_type": "code",
    "id": "5bjmquGr5t6b"
   },
   "outputs": [],
   "source": [
    "def plot(y, predicted):\n",
    "  print('mean absolute error: {0}'.format(mean_absolute_error(y,predicted)))\n",
    "  print('r2 score: {0}'.format(r2_score(y,predicted)))\n",
    "\n",
    "  fig, ax = plt.subplots()\n",
    "  ax.scatter(y, predicted, marker='.')\n",
    "  ax.plot([y.min(), y.max()], [y.min(), y.max()], 'k--', lw=2)\n",
    "  ax.set_xlabel('Real Age')\n",
    "  ax.set_ylabel('Predicted Age')\n",
    "  plt.show()"
   ]
  },
  {
   "cell_type": "code",
   "execution_count": null,
   "metadata": {
    "colab": {
     "base_uri": "https://localhost:8080/",
     "height": 626
    },
    "colab_type": "code",
    "id": "ekKxEUtt5t6X",
    "outputId": "7ef34315-d75a-46c4-a299-4bac1d709ab3"
   },
   "outputs": [],
   "source": [
    "########################################\n",
    "# ADD YOUR CODE HERE\n",
    "########################################\n",
    "\n",
    "from sklearn.pipeline import make_pipeline\n",
    "from sklearn.neural_network import MLPRegressor\n",
    "from sklearn.model_selection import KFold\n",
    "from sklearn.metrics import mean_squared_error, mean_absolute_error, r2_score\n",
    "from sklearn.model_selection import GridSearchCV\n",
    "import statistics\n",
    "from sklearn import svm\n",
    "\n",
    "kf = KFold(n_splits=2)\n",
    "\n",
    "# NN regression model\n",
    "est = make_pipeline(MLPRegressor(hidden_layer_sizes=(150, 50, 50, 50 ,10),\n",
    "                                  learning_rate_init=0.005,\n",
    "                                  early_stopping=True))\n",
    "nn_err = 0\n",
    "for train, test in kf.split(X):\n",
    "  X_train, y_train, X_test, y_test = X[train], y[train], X[test], y[test]\n",
    "  y_train = np.reshape(y_train, (1, -1))[0]\n",
    "  y_test = np.reshape(y_test, (1, -1))[0]\n",
    "\n",
    "  est.fit(X_train, y_train)\n",
    "  nn_y_pred = est.predict(X_test)\n",
    "  nn_err += mean_absolute_error(nn_y_pred, y_test)\n",
    "  plot(y_test, nn_y_pred)\n",
    "\n",
    "nn_mean_age_err = nn_err / 2\n",
    "print(\"mean age error using Neural Network regression is {}\".format(nn_mean_age_err))"
   ]
  },
  {
   "cell_type": "code",
   "execution_count": null,
   "metadata": {
    "colab": {
     "base_uri": "https://localhost:8080/",
     "height": 629
    },
    "colab_type": "code",
    "id": "u6kvD8Z82zb7",
    "outputId": "ad12c851-807a-450d-ea8d-6791984d50f2"
   },
   "outputs": [],
   "source": [
    "# SVR regression model\n",
    "\n",
    "kf = KFold(n_splits=2)\n",
    "\n",
    "clf = svm.SVR()\n",
    "svr_err = 0\n",
    "\n",
    "for train, test in kf.split(X):\n",
    "  X_train, y_train, X_test, y_test = X[train], y[train], X[test], y[test]\n",
    "  y_train = np.reshape(y_train, (1, -1))[0]\n",
    "  y_test = np.reshape(y_test, (1, -1))[0]\n",
    "  \n",
    "  clf.fit(X_train, y_train)\n",
    "  svr_y_pred = clf.predict(X_test)\n",
    "  svr_err += mean_absolute_error(svr_y_pred, y_test)\n",
    "  plot(y_test, svr_y_pred)\n",
    "\n",
    "svr_mean_age_err = svr_err /2\n",
    "print(\"mean age error using support vector regression is {}\".format(svr_mean_age_err))"
   ]
  },
  {
   "cell_type": "code",
   "execution_count": null,
   "metadata": {
    "colab": {
     "base_uri": "https://localhost:8080/",
     "height": 629
    },
    "colab_type": "code",
    "id": "fwP05U39Htwf",
    "outputId": "48394c56-d5c8-44c7-b055-ab6bf54b6f45"
   },
   "outputs": [],
   "source": [
    "#decision tree with adaboost regression model\n",
    "from sklearn.tree import DecisionTreeRegressor\n",
    "from sklearn.ensemble import AdaBoostRegressor\n",
    "\n",
    "kf = KFold(n_splits=2)\n",
    "rng = np.random.RandomState(1)\n",
    "# dt_reg = DecisionTreeRegressor(max_depth=4)\n",
    "ada_reg = AdaBoostRegressor(DecisionTreeRegressor(max_depth=4),\n",
    "                          n_estimators=300, random_state=rng)\n",
    "ensemble_err = 0\n",
    "\n",
    "for train, test in kf.split(X):\n",
    "  X_train, y_train, X_test, y_test = X[train], y[train], X[test], y[test]\n",
    "  y_train = np.reshape(y_train, (1, -1))[0]\n",
    "  y_test = np.reshape(y_test, (1, -1))[0]\n",
    "  \n",
    "  # dt_reg.fit(X_train, y_train)\n",
    "  ada_reg.fit(X_train, y_train)\n",
    "  # dt_y_pred = dt_reg.predict(X_test)\n",
    "  ada_y_pred = ada_reg.predict(X_test)\n",
    "  ensemble_err += mean_absolute_error(ada_y_pred, y_test)\n",
    "  plot(y_test, ada_y_pred)\n",
    "\n",
    "ada_mean_age_err = ensemble_err /2\n",
    "print(\"mean age error using decision tree with adaboost regression is {}\".format(ada_mean_age_err))"
   ]
  },
  {
   "cell_type": "markdown",
   "metadata": {
    "colab_type": "text",
    "id": "34qvxRNc5t6d"
   },
   "source": [
    "## Part B: PCA-based regression using grey matter maps\n",
    "\n",
    "The second approach will make use of grey matter maps that have been already extracted from the MRI scans and aligned to a common reference space to obtain spatially normalised maps. For this, we have used an advanced, state-of-the-art neuroimaging toolkit, called SPM12. The reference space corresponds to the commonly used MNI atlas as seen in the lecture on image segmentation.\n",
    "\n",
    "Because these grey matter maps are spatially normalised (ie., registered), voxel locations across images from different subjects roughly correspond to the same anatomical locations. This means that each voxel location in the grey matter maps can be treated as an individual feature. Because those maps are quite large at their full resolution there would be a very large number of features to deal with (more than 850,000). A dimensionality reduction may need to be performed before training a suitable regressor on the low-dimensional feature representation. We will use Principal Component Analysis (PCA) to do the dimensionality reduction. It might also be beneficial to apply some pre-processing (downsampling, smoothing, etc.) before running PCA, which should be explored. The implemented pipeline should be evaluated using two-fold cross-validation using the same data splits as in part A for the 500 subjects, so the two different approaches can be directly compared in terms average age prediction accuracy.\n",
    "\n",
    "*Note:* For part B, only the spatially normalised grey matter maps should be used."
   ]
  },
  {
   "cell_type": "markdown",
   "metadata": {
    "colab_type": "text",
    "id": "sCR67Ax75t6d"
   },
   "source": [
    "### TASK B-1: Pre-processing\n",
    "\n",
    "Before running PCA to reduce the dimensionality of the feature space for grey matter maps, it might be beneficial to run some pre-processing on the maps. In voxel-based analysis where each voxel location is a feature, it is common to apply some smoothing beforehand. This is to reduce noise and to compensate for errors of the spatial normalisation.\n",
    "\n",
    "Because the maps are quite large, it might also be worthwile to explore whether downsampling could be performed even before PCA. This would further reduce the dimensionality, and might be even needed in the case where PCA on the orignial resolution runs into memory issues. You may want to consider other ways of pre-processing and you can find insipiration in the notebook on medical image computing `02-Intro-Medical-Image-Computing.ipynb`.\n",
    "\n",
    "Implement a function that performs suitable pre-processing on each grey matter map.\n",
    "\n",
    "*Hint:* You may want to save the pre-processed maps using `sitk.WriteImage` to avoid recomputation each time you run the notebook."
   ]
  },
  {
   "cell_type": "code",
   "execution_count": null,
   "metadata": {
    "colab": {
     "base_uri": "https://localhost:8080/",
     "height": 1000
    },
    "colab_type": "code",
    "id": "fBTyYvku5t6e",
    "outputId": "067b1564-247a-4682-9a60-c8a16768b428"
   },
   "outputs": [],
   "source": [
    "import sklearn\n",
    "def downsample(img, factor=3):\n",
    "  smoothed = sitk.DiscreteGaussian(img, (.5 * factor) ** 2)   \n",
    "  return smoothed[::factor, ::factor, ::factor]\n",
    "\n",
    "def reshape_to_2d(dataset):\n",
    "  original_shape = dataset.shape\n",
    "  return dataset.reshape(original_shape[0], -1), original_shape\n",
    "\n",
    "def gamma_correction(img, c=10, gamma=3):\n",
    "    img_array = sitk.GetArrayFromImage(img).astype(float)\n",
    "    min_value = np.min(img_array)\n",
    "    max_value = np.max(img_array)\n",
    "    img_array = (img_array - min_value) / (max_value - min_value)\n",
    "    img_array = c * np.power(img_array,gamma)\n",
    "    img_array = img_array * (max_value - min_value) + min_value\n",
    "    return sitk.GetImageFromArray(img_array)\n",
    "  \n",
    "def normalise(arr):\n",
    "  return arr / np.linalg.norm(arr)\n",
    "\n",
    "def scale(arr):\n",
    "  scaler = sklearn.preprocessing.StandardScaler()\n",
    "  return scaler.fit_transform(arr)\n",
    "\n",
    "def scale_and_normalise(processed_images):\n",
    "  processed_images = convert_img_arr_to_numpy(processed_images)\n",
    "  \n",
    "  # Normalise and Scale array\n",
    "  processed_images, old_shape = reshape_to_2d(processed_images)\n",
    "  processed_images = scale(normalise(processed_images))\n",
    "  processed_images = processed_images.reshape(old_shape)\n",
    "  \n",
    "  return processed_images\n",
    "\n",
    "def preprocess_image(image):\n",
    "  processed = gamma_correction(image)\n",
    "  processed = downsample(processed)\n",
    "  processed = sitk.DiscreteGaussian(processed)\n",
    "  return processed\n",
    "\n",
    "def process_images(image_ids, save_cache=True, load_cached=False):\n",
    "  filepath_unprocessed = lambda id: data_dir + 'greymatter/wc1sub-' + id + '_T1w.nii.gz'\n",
    "  filepath_preprocessed = lambda id: data_dir + 'greymatter/wc1sub-' + id + '_processed_T1w.nii.gz'\n",
    "  filepath_mask = lambda id: data_dir + 'masks/sub-' + id + '_T1w_brain_mask.nii.gz'\n",
    "\n",
    "  if load_cached:\n",
    "    return scale_and_normalise([sitk.ReadImage(filepath_preprocessed(id)) for id in image_ids])\n",
    "\n",
    "  processed_images = []\n",
    "  for id in image_ids:\n",
    "    # Read image\n",
    "    image = sitk.ReadImage(filepath_unprocessed(id))\n",
    "    \n",
    "    # Perform image processing\n",
    "    processed_image = preprocess_image(image)\n",
    "    \n",
    "    if save_cache:\n",
    "      sitk.WriteImage(processed_image, filepath_preprocessed(id))\n",
    "      \n",
    "    processed_images.append(processed_image)\n",
    "\n",
    "  return scale_and_normalise(processed_images)\n",
    "\n",
    "def convert_img_arr_to_numpy(images):\n",
    "  return np.array([sitk.GetArrayFromImage(img) for img in images])\n",
    "\n",
    "def convert_np_arr_to_img(arr):\n",
    "  return [sitk.GetImageFromArray(numpyarr) for numpyarr in arr]\n",
    "\n",
    "# Load data \n",
    "train_ids = list(meta_data_reg_train['subject_id'])\n",
    "processed_images = process_images(train_ids)\n",
    "unprocessed_images = [sitk.ReadImage(data_dir + 'greymatter/wc1sub-' + f + '_T1w.nii.gz') for f in train_ids]\n",
    "\n",
    "# Display images\n",
    "img_data = convert_img_arr_to_numpy(processed_images)\n",
    "gm = unprocessed_images[0]\n",
    "gmp = processed_images[0]\n",
    "display_image(gm)\n",
    "display_image(gmp)"
   ]
  },
  {
   "cell_type": "code",
   "execution_count": null,
   "metadata": {
    "colab": {
     "base_uri": "https://localhost:8080/",
     "height": 68
    },
    "colab_type": "code",
    "id": "AgnUcCgF5t6h",
    "outputId": "ae0676c7-d654-47a1-d913-35ecf212e8bf"
   },
   "outputs": [],
   "source": [
    "X = img_data\n",
    "y = meta_data_reg_train['age'].values.reshape(-1,1)\n",
    "\n",
    "print(img_size)\n",
    "print(X.shape)\n",
    "print(y.shape)"
   ]
  },
  {
   "cell_type": "markdown",
   "metadata": {
    "colab_type": "text",
    "id": "W303kLsS5t6j"
   },
   "source": [
    "### TASK B-2: Dimensionality reduction\n",
    "\n",
    "Implement dimensionality reduction for grey matter maps using [scitkit-learn's PCA](http://scikit-learn.org/stable/modules/decomposition.html#pca). PCA has an option to set the percentage of variance to be preserved (by setting the parameter `n_components` to a value between 0 and 1). The number of principal modes, that is the new dimensionality of the data, is then automatically determined. Try initially to preserve 95% of the variance (`n_components=0.95`).\n",
    "\n",
    "*Note:* When dimensionality reduction is used as pre-processing step for supervised learning, as in this case, it is important that PCA is fitted to the training data only, but then applied to both the training and testing data. So make sure your implementation consists of two separate steps, 1) fitting the PCA model to $X_{\\text{train}}$ (using the `fit` function), and 2) applying dimensionality reduction to $X_{\\text{train}}$ and $X_{\\text{test}}$ using the `transform` function."
   ]
  },
  {
   "cell_type": "code",
   "execution_count": null,
   "metadata": {
    "colab": {},
    "colab_type": "code",
    "id": "YA6_cI1N5t6k"
   },
   "outputs": [],
   "source": [
    "from sklearn.decomposition import PCA\n",
    "\n",
    "def apply_PCA(train, test, n_components=0.95):\n",
    "  pca = PCA(n_components=n_components)\n",
    "  reshaped_train, original_train = reshape_to_2d(train)\n",
    "  reshaped_test, original_test = reshape_to_2d(test)\n",
    "  pca.fit(reshaped_train)\n",
    "  X_train = pca.transform(reshaped_train)\n",
    "  X_test = pca.transform(reshaped_test)\n",
    "  return X_train, X_test, pca"
   ]
  },
  {
   "cell_type": "markdown",
   "metadata": {
    "colab_type": "text",
    "id": "cp8_97295t6m"
   },
   "source": [
    "### TASK B-3: Age regression and cross-validation\n",
    "\n",
    "Experiment with different regression methods from the [scikit-learn toolkit](http://scikit-learn.org/stable/supervised_learning.html#supervised-learning). Evaluate the methods using two-fold [cross-validation](http://scikit-learn.org/stable/modules/cross_validation.html#cross-validation) in the same way as for your approach in Part A so results can be directly compared. Generate the similar plots.\n",
    "\n",
    "Try using at least three different regression methods.\n",
    "\n",
    "*Hint:* Remember, when you use cross-validation where you swap training and testing sets in each fold, you need to fit PCA to the training set of each fold."
   ]
  },
  {
   "cell_type": "code",
   "execution_count": null,
   "metadata": {
    "colab": {
     "base_uri": "https://localhost:8080/",
     "height": 34
    },
    "colab_type": "code",
    "id": "IsZ3hdlu5t6m",
    "outputId": "5f9cd465-841d-4697-c309-e4dc8c529e98"
   },
   "outputs": [],
   "source": [
    "import sklearn\n",
    "\n",
    "# NN regression model\n",
    "est = make_pipeline(MLPRegressor(hidden_layer_sizes=(150, 50, 50, 50 ,10),\n",
    "                                  learning_rate_init=0.005,\n",
    "                                  early_stopping=True))\n",
    "nn_err = 0\n",
    "for train, test in kf.split(X):\n",
    "  X_train, X_test, pca = apply_PCA(X[train], X[test])\n",
    "  y_train, y_test = y[train], y[test]\n",
    "  y_train = np.reshape(y_train, (1, -1))[0]\n",
    "  y_test = np.reshape(y_test, (1, -1))[0]\n",
    "\n",
    "  est.fit(X_train, y_train)\n",
    "  nn_y_pred = est.predict(X_test)\n",
    "  nn_err += mean_absolute_error(nn_y_pred, y_test)\n",
    "  plot(y_test, nn_y_pred)\n",
    "\n",
    "nn_mean_age_err = nn_err / 2\n",
    "print(\"mean age error using Neural Network regression is {}\".format(nn_mean_age_err))"
   ]
  },
  {
   "cell_type": "code",
   "execution_count": null,
   "metadata": {},
   "outputs": [],
   "source": [
    "clf = svm.SVR()\n",
    "svr_err = 0\n",
    "\n",
    "for train, test in kf.split(X):\n",
    "  X_train, X_test, pca = apply_PCA(X[train], X[test])\n",
    "  y_train, y_test = y[train], y[test]\n",
    "  y_train = np.reshape(y_train, (1, -1))[0]\n",
    "  y_test = np.reshape(y_test, (1, -1))[0]\n",
    "  \n",
    "  clf.fit(X_train, y_train)\n",
    "  svr_y_pred = clf.predict(X_test)\n",
    "  svr_err += mean_absolute_error(svr_y_pred, y_test)\n",
    "  plot(y_test, svr_y_pred)\n",
    "\n",
    "svr_mean_age_err = svr_err /2\n",
    "print(\"mean age error using support vector regression is {}\".format(svr_mean_age_err))"
   ]
  },
  {
   "cell_type": "code",
   "execution_count": null,
   "metadata": {},
   "outputs": [],
   "source": [
    "rng = np.random.RandomState(1)\n",
    "# dt_reg = DecisionTreeRegressor(max_depth=4)\n",
    "ada_reg = AdaBoostRegressor(DecisionTreeRegressor(max_depth=4),\n",
    "                          n_estimators=300, random_state=rng)\n",
    "ensemble_err = 0\n",
    "\n",
    "for train, test in kf.split(X):\n",
    "  X_train, X_test, pca = apply_PCA(X[train], X[test])\n",
    "  y_train, y_test = y[train], y[test]\n",
    "  y_train = np.reshape(y_train, (1, -1))[0]\n",
    "  y_test = np.reshape(y_test, (1, -1))[0]\n",
    "  \n",
    "  # dt_reg.fit(X_train, y_train)\n",
    "  ada_reg.fit(X_train, y_train)\n",
    "  # dt_y_pred = dt_reg.predict(X_test)\n",
    "  ada_y_pred = ada_reg.predict(X_test)\n",
    "  ensemble_err += mean_absolute_error(ada_y_pred, y_test)\n",
    "  plot(y_test, ada_y_pred)\n",
    "\n",
    "ada_mean_age_err = ensemble_err /2\n",
    "print(\"mean age error using decision tree with adaboost regression is {}\".format(ada_mean_age_err))"
   ]
  },
  {
   "cell_type": "markdown",
   "metadata": {
    "colab_type": "text",
    "id": "5SaGlEix5t6s"
   },
   "source": [
    "## Part C: CNN-based regression using grey matter maps\n",
    "\n",
    "The third approach is similar in nature to the second approach in task B, but instead of using PCA for dimensionality reduction in order to use a more classical regression model, now we will use convolutional neural networks (CNNs) on the grey matter maps for predicting the subject's age directly.\n",
    "\n",
    "You will need to implement a CNN model that takes a grey matter map as an input and maps it to a one-dimensional, real-valued output. A good starting point may be a LeNet-type architecture and adapt the last layers to convert the classification into a regression network. You should have all the necessary ingredients now from above tasks and the notebooks from the lab tutorials for how to set up a CNN model in PyTorch, how to implement a suitable training and testing routine, and how to run a two-fold cross-validation on the 500 subjects similar to tasks A and B.\n",
    "\n",
    "*Note:* For part C, only the spatially normalised grey matter maps should be used. Similar to task A, you may want to set up a configuration for the CNN training that may also involve some resampling of the input data."
   ]
  },
  {
   "cell_type": "code",
   "execution_count": null,
   "metadata": {
    "colab": {},
    "colab_type": "code",
    "id": "awBiMWNH67iL"
   },
   "outputs": [],
   "source": [
    "from sklearn.model_selection import KFold"
   ]
  },
  {
   "cell_type": "code",
   "execution_count": null,
   "metadata": {
    "colab": {
     "base_uri": "https://localhost:8080/",
     "height": 68
    },
    "colab_type": "code",
    "id": "tn9FYzgQ3ZY5",
    "outputId": "4481e554-5360-43e4-fcd9-1db96484fc5e"
   },
   "outputs": [],
   "source": [
    "X = img_data\n",
    "y = meta_data_reg_train['age'].values.reshape(-1,1)\n",
    "\n",
    "print(img_size) #[64, 64, 64]\n",
    "print(X.shape) # (500, 45, 54, 45)\n",
    "print(y.shape) # (500, 1)"
   ]
  },
  {
   "cell_type": "code",
   "execution_count": null,
   "metadata": {
    "colab": {},
    "colab_type": "code",
    "id": "ZfWVVJUd5t6t"
   },
   "outputs": [],
   "source": [
    "import torch.nn as nn\n",
    "import torch.nn.functional as F\n",
    "\n",
    "class LeNet(nn.Module):\n",
    "    def __init__(self):\n",
    "        super(LeNet, self).__init__()\n",
    "        self.conv1 = nn.Conv3d(1, 6, kernel_size=5)\n",
    "        self.conv2 = nn.Conv3d(6, 16, kernel_size=5)\n",
    "        self.fc1   = nn.Linear(10240, 120)\n",
    "        self.fc2   = nn.Linear(120, 84)\n",
    "        self.fc3   = nn.Linear(84, 1)\n",
    "\n",
    "    def forward(self, x):\n",
    "        #print(\"x intial shape is \" + str(x.shape))      \n",
    "        x = F.relu(self.conv1(x))\n",
    "        #print(\"x shape is \" + str(x.shape))                \n",
    "        x = F.max_pool3d(x, 2)\n",
    "        #print(\"x shape 2 is \" + str(x.shape)) \n",
    "        x = F.relu(self.conv2(x))\n",
    "        #print(\"x shape 3 is \" + str(x.shape))                \n",
    "        x = F.max_pool3d(x, 2)\n",
    "        #print(\"x shape 4 is \" + str(x.shape))                \n",
    "        x = x.view(x.size(0), -1)\n",
    "        #print(\"x shape 5 is \" + str(x.shape))                \n",
    "        x = F.relu(self.fc1(x))\n",
    "        #print(\"x shape 6 is \" + str(x.shape))                \n",
    "        x = F.relu(self.fc2(x))\n",
    "        #print(\"x shape 7 is \" + str(x.shape))                \n",
    "        x = self.fc3(x)\n",
    "        #print(\"x shape 8 is \" + str(x.shape))                \n",
    "        return x"
   ]
  },
  {
   "cell_type": "code",
   "execution_count": null,
   "metadata": {
    "colab": {
     "base_uri": "https://localhost:8080/",
     "height": 232
    },
    "colab_type": "code",
    "id": "8e8Rds8tpjW6",
    "outputId": "0f9eb087-1a87-484b-c546-bf5dbe57ebde"
   },
   "outputs": [],
   "source": [
    "import torch.nn as nn\n",
    "model_dir = os.path.join(out_dir, 'modelpart3')\n",
    "if not os.path.exists(model_dir):\n",
    "    os.makedirs(model_dir)\n",
    "\n",
    "torch.manual_seed(rnd_seed) #fix random seed\n",
    "\n",
    "model = LeNet().to(device)\n",
    "model.train()\n",
    "\n",
    "learning_rate = 0.0001\n",
    "\n",
    "optimizer = torch.optim.Adam(model.parameters(), lr=learning_rate)\n",
    "\n",
    "loss_train_log = []\n",
    "loss_val_log = []\n",
    "epoch_val_log = []\n",
    "    \n",
    "print('START TRAINING...')\n",
    "X_s, y_s = sklearn.utils.shuffle(X, y)\n",
    "split = len(X_s)//2\n",
    "\n",
    "X_sets = [X_s[0:split], X_s[split:len(X_s)]]\n",
    "y_sets = [y_s[0:split], y_s[split:len(y_s)]]\n",
    "\n",
    "def RMSELoss(yhat,y):\n",
    "    return torch.sqrt(torch.mean((yhat-y)**2))\n",
    "\n",
    "data_train = X_sets[0]\n",
    "data_train = data_train[:,None]\n",
    "dataloader_train = torch.utils.data.DataLoader(data_train, batch_size=1, shuffle=True)\n",
    "expected_train = y_sets[0]\n",
    "\n",
    "data_val = X_sets[1]\n",
    "expected_val = y_sets[1]\n",
    "data_val = data_val[:,None]\n",
    "dataloader_val = torch.utils.data.DataLoader(data_val, batch_size=1, shuffle=True)\n",
    "for epoch in range(1, num_epochs + 1):\n",
    "\n",
    "    total_loss = 0\n",
    "    total_size = 0\n",
    "\n",
    "    # Training\n",
    "    for batch_idx, image in enumerate(dataloader_train):\n",
    "        img, seg = image.to(device, dtype=torch.float), expected_train[batch_idx]\n",
    "        optimizer.zero_grad()\n",
    "        prd = model(img) # (2, 1)\n",
    "        # print(prd)\n",
    "        # print(\"Size of prd: \" + str(prd.shape) + \"vals: \" + str(prd[0, 0]) + \"seg\" + str(seg[0]))\n",
    "        # seg_flat = seg.view(seg.size(0), seg.size(1), -1)\n",
    "        # predicted_flat = torch.tensor([prd[0, 0]])\n",
    "        expected_flat = torch.tensor([seg[0]], dtype=torch.float).to(device)\n",
    "        # print(prd.item())\n",
    "        # print(expected_flat)\n",
    "\n",
    "        # print('predicted: {}, expected: {}'.format(predicted_flat.item(), expected_flat.item()))\n",
    "        loss = nn.MSELoss()\n",
    "        output = loss(prd[0,0], expected_flat)\n",
    "        # output.requires_grad = True\n",
    "        # print(output)\n",
    "        # print(\"Loss is: \"+ str(output.item()))\n",
    "        #loss = criterion(prd.cpu().detach().numpy(),seg)\n",
    "        total_loss += output.item()\n",
    "        total_size += 1\n",
    "        output.backward()\n",
    "        optimizer.step()\n",
    "\n",
    "    final_loss = total_loss / total_size\n",
    "    loss_train_log.append(output.data.cpu().numpy())\n",
    "\n",
    "    print('+ TRAINING \\tEpoch: {} \\tLoss: {}'.format(epoch, final_loss))\n",
    "    \n",
    "    # Validation\n",
    "    if epoch == 1 or epoch % val_interval == 0:\n",
    "        loss_val = 0\n",
    "        sum_pts = 0\n",
    "        total = 0\n",
    "        with torch.no_grad():\n",
    "            for batch_idx, data_sample in enumerate(dataloader_val):\n",
    "                img, seg = data_sample.to(device, dtype=torch.float), expected_val[batch_idx]\n",
    "                prd = model(img)\n",
    "                # print(\"Size of val prd: \" + str(prd.shape) + \"vals: \" + str(prd[0, 0]) + \"seg\" + str(seg[0]))\n",
    "                # predicted_flat = torch.tensor([prd[0, 0]])\n",
    "                expected_flat = torch.tensor([seg[0]], dtype=torch.float).to(device)\n",
    "                loss = nn.MSELoss()\n",
    "                # print(prd.item())\n",
    "                loss_val = loss(prd[0,0], expected_flat)\n",
    "                # loss_val.requires_grad = True\n",
    "                # print(loss_val.item())\n",
    "                total += loss_val.item()\n",
    "                # print(\"Loss val is: \"+ str(loss_val.item()))\n",
    "                # sum_pts += seg_flat.size(2)\n",
    "                sum_pts += 1\n",
    "                \n",
    "        prd = total\n",
    "        #print(\"Size of last prd: \" + str(prd.shape))\n",
    "        #prediction = sitk.GetImageFromArray(prd.cpu().squeeze().numpy().astype(np.uint8))\n",
    "        \n",
    "\n",
    "        loss_v = total / sum_pts\n",
    "\n",
    "        loss_val_log.append(loss_v)\n",
    "        epoch_val_log.append(epoch)\n",
    "\n",
    "        print('--------------------------------------------------')\n",
    "        print('+ VALIDATE \\tEpoch: {} \\tLoss: {}'.format(epoch, str(loss_v)))\n",
    "        #display_image(sitk.LabelToRGB(prediction))\n",
    "        print('--------------------------------------------------')\n",
    "\n",
    "torch.save(model.state_dict(), os.path.join(model_dir, 'modelpart3.pt'))\n",
    "\n",
    "print('\\nFinished TRAINING.')\n",
    "\n",
    "plt.plot(range(1, num_epochs + 1), loss_train_log, c='r', label='train')\n",
    "plt.plot(epoch_val_log, loss_val_log, c='b', label='val')\n",
    "plt.legend(loc='upper right')\n",
    "plt.xlabel('epoch')\n",
    "plt.ylabel('loss')\n",
    "plt.show()"
   ]
  },
  {
   "cell_type": "markdown",
   "metadata": {
    "colab_type": "text",
    "id": "aSvCmLK95t6v"
   },
   "source": [
    "Error calculation and plotting"
   ]
  },
  {
   "cell_type": "code",
   "execution_count": null,
   "metadata": {
    "colab": {
     "base_uri": "https://localhost:8080/",
     "height": 232
    },
    "colab_type": "code",
    "id": "QscZUT-x5t6v",
    "outputId": "ee51a9f9-4d51-4fea-cf30-b701b8855fa3"
   },
   "outputs": [],
   "source": [
    "print('mean absolute error: {0}'.format(mean_absolute_error(y,predicted)))\n",
    "print('r2 score: {0}'.format(r2_score(y,predicted)))\n",
    "\n",
    "fig, ax = plt.subplots()\n",
    "ax.scatter(y, predicted, marker='.')\n",
    "ax.plot([y.min(), y.max()], [y.min(), y.max()], 'k--', lw=2)\n",
    "ax.set_xlabel('Real Age')\n",
    "ax.set_ylabel('Predicted Age')\n",
    "plt.show()"
   ]
  }
 ],
 "metadata": {
  "accelerator": "GPU",
  "colab": {
   "name": "CW-Brain-Age-Regression.ipynb",
   "provenance": [],
   "toc_visible": true
  },
  "kernelspec": {
   "display_name": "Python 3",
   "language": "python",
   "name": "python3"
  },
  "language_info": {
   "codemirror_mode": {
    "name": "ipython",
    "version": 3
   },
   "file_extension": ".py",
   "mimetype": "text/x-python",
   "name": "python",
   "nbconvert_exporter": "python",
   "pygments_lexer": "ipython3",
   "version": "3.7.4"
  }
 },
 "nbformat": 4,
 "nbformat_minor": 1
}
